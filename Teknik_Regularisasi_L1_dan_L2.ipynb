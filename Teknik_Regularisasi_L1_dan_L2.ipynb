{
  "nbformat": 4,
  "nbformat_minor": 0,
  "metadata": {
    "colab": {
      "provenance": [],
      "authorship_tag": "ABX9TyOqhhBnWWGP9umntu0jn6DU",
      "include_colab_link": true
    },
    "kernelspec": {
      "name": "python3",
      "display_name": "Python 3"
    },
    "language_info": {
      "name": "python"
    }
  },
  "cells": [
    {
      "cell_type": "markdown",
      "metadata": {
        "id": "view-in-github",
        "colab_type": "text"
      },
      "source": [
        "<a href=\"https://colab.research.google.com/github/IndraMadika/ML_Study/blob/main/Teknik_Regularisasi_L1_dan_L2.ipynb\" target=\"_parent\"><img src=\"https://colab.research.google.com/assets/colab-badge.svg\" alt=\"Open In Colab\"/></a>"
      ]
    },
    {
      "cell_type": "code",
      "execution_count": 2,
      "metadata": {
        "id": "ok1P8EAokAVi"
      },
      "outputs": [],
      "source": [
        "import numpy as np\n",
        "\n",
        "# Contoh data fitur (X_train)\n",
        "X_train = np.array([[1, 2, 3],\n",
        "                    [4, 5, 6],\n",
        "                    [7, 8, 9]])\n",
        "\n",
        "# Contoh data target (y_train)\n",
        "y_train = np.array([0, 1, 0])\n",
        "\n",
        "# Contoh data fitur (X_test)\n",
        "X_test = np.array([[10, 11, 12],\n",
        "                   [13, 14, 15]])\n",
        "\n",
        "# Contoh data target (y_test)\n",
        "y_test = np.array([1, 0])"
      ]
    },
    {
      "cell_type": "code",
      "source": [
        "# Membangun model neural network dengan regularisasi L1\n",
        "model = Sequential()\n",
        "model.add(Dense(64, activation='relu', kernel_regularizer=regularizers.l1(0.01), input_shape=(3,)))\n",
        "model.add(Dense(64, activation='relu', kernel_regularizer=regularizers.l1(0.01)))\n",
        "model.add(Dense(1, activation='sigmoid'))\n",
        "\n",
        "# Melatih model menggunakan data pelatihan\n",
        "model.compile(loss='binary_crossentropy', optimizer='adam', metrics=['accuracy'])\n",
        "model.fit(X_train, y_train, batch_size=32, epochs=10, validation_data=(X_test, y_test))"
      ],
      "metadata": {
        "colab": {
          "base_uri": "https://localhost:8080/"
        },
        "id": "4fVY2WyQktjL",
        "outputId": "85609b95-f763-443b-95f9-18b054b66890"
      },
      "execution_count": 5,
      "outputs": [
        {
          "output_type": "stream",
          "name": "stdout",
          "text": [
            "Epoch 1/10\n",
            "1/1 [==============================] - 2s 2s/step - loss: 5.3905 - accuracy: 0.6667 - val_loss: 5.4995 - val_accuracy: 0.5000\n",
            "Epoch 2/10\n",
            "1/1 [==============================] - 0s 56ms/step - loss: 5.3504 - accuracy: 0.6667 - val_loss: 5.4335 - val_accuracy: 0.5000\n",
            "Epoch 3/10\n",
            "1/1 [==============================] - 0s 40ms/step - loss: 5.3112 - accuracy: 0.6667 - val_loss: 5.4210 - val_accuracy: 0.5000\n",
            "Epoch 4/10\n",
            "1/1 [==============================] - 0s 41ms/step - loss: 5.2684 - accuracy: 0.6667 - val_loss: 5.4240 - val_accuracy: 0.5000\n",
            "Epoch 5/10\n",
            "1/1 [==============================] - 0s 41ms/step - loss: 5.2286 - accuracy: 0.6667 - val_loss: 5.4216 - val_accuracy: 0.5000\n",
            "Epoch 6/10\n",
            "1/1 [==============================] - 0s 53ms/step - loss: 5.1895 - accuracy: 0.6667 - val_loss: 5.3983 - val_accuracy: 0.5000\n",
            "Epoch 7/10\n",
            "1/1 [==============================] - 0s 42ms/step - loss: 5.1501 - accuracy: 0.6667 - val_loss: 5.3530 - val_accuracy: 0.5000\n",
            "Epoch 8/10\n",
            "1/1 [==============================] - 0s 49ms/step - loss: 5.1100 - accuracy: 0.6667 - val_loss: 5.2929 - val_accuracy: 0.5000\n",
            "Epoch 9/10\n",
            "1/1 [==============================] - 0s 58ms/step - loss: 5.0695 - accuracy: 0.6667 - val_loss: 5.2283 - val_accuracy: 0.5000\n",
            "Epoch 10/10\n",
            "1/1 [==============================] - 0s 39ms/step - loss: 5.0299 - accuracy: 0.6667 - val_loss: 5.1713 - val_accuracy: 0.5000\n"
          ]
        },
        {
          "output_type": "execute_result",
          "data": {
            "text/plain": [
              "<keras.callbacks.History at 0x7f7b01869000>"
            ]
          },
          "metadata": {},
          "execution_count": 5
        }
      ]
    },
    {
      "cell_type": "code",
      "source": [
        "# Membangun model neural network dengan regularisasi L2\n",
        "model = Sequential()\n",
        "model.add(Dense(64, activation='relu', kernel_regularizer=regularizers.l2(0.01), input_shape=(3,)))\n",
        "model.add(Dense(64, activation='relu', kernel_regularizer=regularizers.l2(0.01)))\n",
        "model.add(Dense(1, activation='sigmoid'))\n",
        "\n",
        "# Melatih model menggunakan data pelatihan\n",
        "model.compile(loss='binary_crossentropy', optimizer='adam', metrics=['accuracy'])\n",
        "model.fit(X_train, y_train, batch_size=32, epochs=10, validation_data=(X_test, y_test))"
      ],
      "metadata": {
        "colab": {
          "base_uri": "https://localhost:8080/"
        },
        "id": "JWauzXQ3laI7",
        "outputId": "e3e7612f-c650-4012-bfe8-4e9b69d250cf"
      },
      "execution_count": 6,
      "outputs": [
        {
          "output_type": "stream",
          "name": "stdout",
          "text": [
            "Epoch 1/10\n",
            "1/1 [==============================] - 1s 1s/step - loss: 1.3626 - accuracy: 0.6667 - val_loss: 1.4485 - val_accuracy: 0.5000\n",
            "Epoch 2/10\n",
            "1/1 [==============================] - 0s 75ms/step - loss: 1.3271 - accuracy: 0.6667 - val_loss: 1.5986 - val_accuracy: 0.5000\n",
            "Epoch 3/10\n",
            "1/1 [==============================] - 0s 42ms/step - loss: 1.3201 - accuracy: 0.6667 - val_loss: 1.6818 - val_accuracy: 0.5000\n",
            "Epoch 4/10\n",
            "1/1 [==============================] - 0s 64ms/step - loss: 1.3168 - accuracy: 0.6667 - val_loss: 1.6748 - val_accuracy: 0.5000\n",
            "Epoch 5/10\n",
            "1/1 [==============================] - 0s 62ms/step - loss: 1.3079 - accuracy: 0.6667 - val_loss: 1.6151 - val_accuracy: 0.5000\n",
            "Epoch 6/10\n",
            "1/1 [==============================] - 0s 40ms/step - loss: 1.2959 - accuracy: 0.6667 - val_loss: 1.5354 - val_accuracy: 0.5000\n",
            "Epoch 7/10\n",
            "1/1 [==============================] - 0s 49ms/step - loss: 1.2839 - accuracy: 0.6667 - val_loss: 1.4600 - val_accuracy: 0.5000\n",
            "Epoch 8/10\n",
            "1/1 [==============================] - 0s 46ms/step - loss: 1.2744 - accuracy: 0.6667 - val_loss: 1.4034 - val_accuracy: 0.5000\n",
            "Epoch 9/10\n",
            "1/1 [==============================] - 0s 58ms/step - loss: 1.2674 - accuracy: 0.6667 - val_loss: 1.3697 - val_accuracy: 0.5000\n",
            "Epoch 10/10\n",
            "1/1 [==============================] - 0s 58ms/step - loss: 1.2620 - accuracy: 0.6667 - val_loss: 1.3557 - val_accuracy: 0.5000\n"
          ]
        },
        {
          "output_type": "execute_result",
          "data": {
            "text/plain": [
              "<keras.callbacks.History at 0x7f7af1765390>"
            ]
          },
          "metadata": {},
          "execution_count": 6
        }
      ]
    },
    {
      "cell_type": "markdown",
      "source": [
        "# **Multi Klasifikasi**"
      ],
      "metadata": {
        "id": "RWusdbRqnykL"
      }
    },
    {
      "cell_type": "markdown",
      "source": [
        "Dalam tugas multi klasifikasi, seringkali kita memiliki label dalam bentuk bilangan bulat yang mewakili kelas atau kategori tertentu. Misalnya, jika kita memiliki 3 kelas (0, 1, 2), label yang diberikan akan berupa bilangan bulat seperti (0, 1, 2) sesuai dengan kelas yang sesuai.\n",
        "\n",
        "Namun, dalam model machine learning atau deep learning, seringkali kita menggunakan representasi one-hot encoding untuk label dalam tugas multi klasifikasi. One-hot encoding adalah representasi di mana setiap label direpresentasikan sebagai vektor biner, di mana hanya satu elemen vektor yang bernilai 1 (menunjukkan kelas yang benar) dan elemen lainnya bernilai 0."
      ],
      "metadata": {
        "id": "YEerCYCsqpoy"
      }
    },
    {
      "cell_type": "code",
      "source": [
        "import numpy as np\n",
        "from tensorflow.keras.models import Sequential\n",
        "from tensorflow.keras.layers import Dense\n",
        "from tensorflow.keras import regularizers\n",
        "from tensorflow.keras.utils import to_categorical\n",
        "\n",
        "# Contoh data fitur (X_train)\n",
        "X_train = np.array([[1, 2, 3],\n",
        "                    [4, 5, 6],\n",
        "                    [7, 8, 9],\n",
        "                    [10, 11, 12]])\n",
        "\n",
        "# Contoh data target (y_train)\n",
        "y_train = np.array([0, 1, 2, 0])\n",
        "\n",
        "# Contoh data fitur (X_test)\n",
        "X_test = np.array([[13, 14, 15],\n",
        "                   [16, 17, 18]])\n",
        "\n",
        "# Contoh data target (y_test)\n",
        "y_test = np.array([1, 2])\n",
        "\n",
        "# Mengubah target menjadi one-hot encoding\n",
        "y_train = to_categorical(y_train)\n",
        "y_test = to_categorical(y_test)\n",
        "\n",
        "# Membangun model neural network dengan regularisasi L2\n",
        "model = Sequential()\n",
        "model.add(Dense(64, activation='relu', kernel_regularizer=regularizers.l2(0.01), input_shape=(3,)))\n",
        "model.add(Dense(64, activation='relu', kernel_regularizer=regularizers.l2(0.01)))\n",
        "model.add(Dense(3, activation='softmax'))\n",
        "\n",
        "# Melatih model menggunakan data pelatihan\n",
        "model.compile(loss='categorical_crossentropy', optimizer='adam', metrics=['accuracy'])\n",
        "model.fit(X_train, y_train, batch_size=32, epochs=10, validation_data=(X_test, y_test))\n"
      ],
      "metadata": {
        "colab": {
          "base_uri": "https://localhost:8080/"
        },
        "id": "MpwT1wIdn5ak",
        "outputId": "bc9df906-c399-45d2-fa6d-69618a6dbab0"
      },
      "execution_count": 7,
      "outputs": [
        {
          "output_type": "stream",
          "name": "stdout",
          "text": [
            "Epoch 1/10\n",
            "1/1 [==============================] - 1s 1s/step - loss: 2.0782 - accuracy: 0.2500 - val_loss: 2.1380 - val_accuracy: 0.5000\n",
            "Epoch 2/10\n",
            "1/1 [==============================] - 0s 57ms/step - loss: 1.8800 - accuracy: 0.5000 - val_loss: 2.0024 - val_accuracy: 0.0000e+00\n",
            "Epoch 3/10\n",
            "1/1 [==============================] - 0s 61ms/step - loss: 1.7651 - accuracy: 0.5000 - val_loss: 2.1357 - val_accuracy: 0.0000e+00\n",
            "Epoch 4/10\n",
            "1/1 [==============================] - 0s 65ms/step - loss: 1.7227 - accuracy: 0.5000 - val_loss: 2.3934 - val_accuracy: 0.0000e+00\n",
            "Epoch 5/10\n",
            "1/1 [==============================] - 0s 40ms/step - loss: 1.7204 - accuracy: 0.5000 - val_loss: 2.6576 - val_accuracy: 0.0000e+00\n",
            "Epoch 6/10\n",
            "1/1 [==============================] - 0s 41ms/step - loss: 1.7286 - accuracy: 0.5000 - val_loss: 2.8643 - val_accuracy: 0.0000e+00\n",
            "Epoch 7/10\n",
            "1/1 [==============================] - 0s 47ms/step - loss: 1.7383 - accuracy: 0.5000 - val_loss: 2.9947 - val_accuracy: 0.0000e+00\n",
            "Epoch 8/10\n",
            "1/1 [==============================] - 0s 61ms/step - loss: 1.7436 - accuracy: 0.5000 - val_loss: 3.0457 - val_accuracy: 0.0000e+00\n",
            "Epoch 9/10\n",
            "1/1 [==============================] - 0s 43ms/step - loss: 1.7422 - accuracy: 0.5000 - val_loss: 3.0301 - val_accuracy: 0.0000e+00\n",
            "Epoch 10/10\n",
            "1/1 [==============================] - 0s 49ms/step - loss: 1.7354 - accuracy: 0.5000 - val_loss: 2.9678 - val_accuracy: 0.0000e+00\n"
          ]
        },
        {
          "output_type": "execute_result",
          "data": {
            "text/plain": [
              "<keras.callbacks.History at 0x7f7b021a25c0>"
            ]
          },
          "metadata": {},
          "execution_count": 7
        }
      ]
    },
    {
      "cell_type": "code",
      "source": [
        "import numpy as np\n",
        "from sklearn.model_selection import train_test_split\n",
        "from sklearn.preprocessing import LabelEncoder\n",
        "from tensorflow.keras.preprocessing.text import Tokenizer\n",
        "from tensorflow.keras.preprocessing.sequence import pad_sequences\n",
        "from tensorflow.keras.models import Sequential\n",
        "from tensorflow.keras.layers import Embedding, LSTM, Dense\n",
        "from sklearn.metrics import confusion_matrix\n",
        "import seaborn as sns\n",
        "import matplotlib.pyplot as plt\n",
        "\n",
        "# Contoh data teks kategori\n",
        "texts = [\"Ini adalah contoh teks kategori 1\",\n",
        "         \"Ini adalah contoh teks kategori 2\",\n",
        "         \"Ini adalah contoh teks kategori 1\",\n",
        "         \"Ini adalah contoh teks kategori 3\",\n",
        "         \"Ini adalah contoh teks kategori 2\"]\n",
        "\n",
        "labels = [\"kategori 1\", \"kategori 2\", \"kategori 1\", \"kategori 3\", \"kategori 2\"]\n",
        "\n",
        "# Melakukan encoding pada label kategori\n",
        "label_encoder = LabelEncoder()\n",
        "encoded_labels = label_encoder.fit_transform(labels)\n",
        "\n",
        "# Tokenisasi dan mengubah teks menjadi representasi numerik\n",
        "tokenizer = Tokenizer()\n",
        "tokenizer.fit_on_texts(texts)\n",
        "encoded_texts = tokenizer.texts_to_sequences(texts)\n",
        "\n",
        "# Padding sequence untuk membuat panjang yang sama\n",
        "max_sequence_length = max([len(seq) for seq in encoded_texts])\n",
        "padded_texts = pad_sequences(encoded_texts, maxlen=max_sequence_length, padding='post')\n",
        "\n",
        "# Membagi data menjadi data latih dan data uji\n",
        "X_train, X_test, y_train, y_test = train_test_split(padded_texts, encoded_labels, test_size=0.2, random_state=42)\n",
        "\n",
        "# Membangun model jaringan saraf tiruan\n",
        "model = Sequential()\n",
        "model.add(Embedding(input_dim=len(tokenizer.word_index) + 1, output_dim=64, input_length=max_sequence_length))\n",
        "model.add(LSTM(64))\n",
        "model.add(Dense(64, activation='relu'))\n",
        "model.add(Dense(len(label_encoder.classes_), activation='softmax'))\n",
        "model.compile(loss='sparse_categorical_crossentropy', optimizer='adam', metrics=['accuracy'])\n",
        "\n",
        "# Melatih model\n",
        "model.fit(X_train, y_train, epochs=10, batch_size=32, validation_data=(X_test, y_test))\n",
        "\n",
        "# Memprediksi kategori pada data uji\n",
        "y_pred_prob = model.predict(X_test)\n",
        "y_pred = np.argmax(y_pred_prob, axis=1)\n",
        "\n",
        "# Membuat confusion matrix\n",
        "cm = confusion_matrix(y_test, y_pred)\n",
        "\n",
        "# Visualisasi confusion matrix\n",
        "plt.figure(figsize=(8, 6))\n",
        "sns.heatmap(cm, annot=True, cmap='Blues', fmt='d', xticklabels=label_encoder.classes_, yticklabels=label_encoder.classes_)\n",
        "plt.xlabel('Predicted')\n",
        "plt.ylabel('True')\n",
        "plt.title('Confusion Matrix')\n",
        "plt.show()\n"
      ],
      "metadata": {
        "colab": {
          "base_uri": "https://localhost:8080/",
          "height": 928
        },
        "id": "iTp49d2_uI8a",
        "outputId": "dc9fdc2a-9036-4523-a291-cf481d26c065"
      },
      "execution_count": 9,
      "outputs": [
        {
          "output_type": "stream",
          "name": "stdout",
          "text": [
            "Epoch 1/10\n",
            "1/1 [==============================] - 8s 8s/step - loss: 1.1010 - accuracy: 0.2500 - val_loss: 1.1057 - val_accuracy: 0.0000e+00\n",
            "Epoch 2/10\n",
            "1/1 [==============================] - 0s 86ms/step - loss: 1.0957 - accuracy: 0.7500 - val_loss: 1.1054 - val_accuracy: 0.0000e+00\n",
            "Epoch 3/10\n",
            "1/1 [==============================] - 0s 83ms/step - loss: 1.0924 - accuracy: 0.5000 - val_loss: 1.1039 - val_accuracy: 0.0000e+00\n",
            "Epoch 4/10\n",
            "1/1 [==============================] - 0s 87ms/step - loss: 1.0896 - accuracy: 0.5000 - val_loss: 1.1026 - val_accuracy: 0.0000e+00\n",
            "Epoch 5/10\n",
            "1/1 [==============================] - 0s 74ms/step - loss: 1.0865 - accuracy: 0.5000 - val_loss: 1.1028 - val_accuracy: 0.0000e+00\n",
            "Epoch 6/10\n",
            "1/1 [==============================] - 0s 86ms/step - loss: 1.0835 - accuracy: 0.5000 - val_loss: 1.1047 - val_accuracy: 0.0000e+00\n",
            "Epoch 7/10\n",
            "1/1 [==============================] - 0s 85ms/step - loss: 1.0803 - accuracy: 0.5000 - val_loss: 1.1067 - val_accuracy: 0.0000e+00\n",
            "Epoch 8/10\n",
            "1/1 [==============================] - 0s 101ms/step - loss: 1.0768 - accuracy: 0.5000 - val_loss: 1.1090 - val_accuracy: 0.0000e+00\n",
            "Epoch 9/10\n",
            "1/1 [==============================] - 0s 79ms/step - loss: 1.0733 - accuracy: 0.5000 - val_loss: 1.1100 - val_accuracy: 0.0000e+00\n",
            "Epoch 10/10\n",
            "1/1 [==============================] - 0s 106ms/step - loss: 1.0696 - accuracy: 0.5000 - val_loss: 1.1101 - val_accuracy: 0.0000e+00\n",
            "1/1 [==============================] - 0s 477ms/step\n"
          ]
        },
        {
          "output_type": "display_data",
          "data": {
            "text/plain": [
              "<Figure size 800x600 with 2 Axes>"
            ],
            "image/png": "[encoded data removed]"
          },
          "metadata": {}
        }
      ]
    },
    {
      "cell_type": "code",
      "source": [
        "import numpy as np\n",
        "from sklearn.model_selection import train_test_split\n",
        "from sklearn.preprocessing import LabelEncoder\n",
        "from tensorflow.keras.preprocessing.text import Tokenizer\n",
        "from tensorflow.keras.preprocessing.sequence import pad_sequences\n",
        "from tensorflow.keras.models import Sequential\n",
        "from tensorflow.keras.layers import Embedding, LSTM, Dense\n",
        "from sklearn.metrics import confusion_matrix\n",
        "import seaborn as sns\n",
        "import matplotlib.pyplot as plt\n",
        "\n",
        "# Contoh data teks kategori\n",
        "texts = [\"Ini adalah contoh teks kategori 1\",\n",
        "         \"Ini adalah contoh teks kategori 2\",\n",
        "         \"Ini adalah contoh teks kategori 1\",\n",
        "         \"Ini adalah contoh teks kategori 3\",\n",
        "         \"Ini adalah contoh teks kategori 2\",\n",
        "         \"Ini adalah contoh teks kategori 3\",\n",
        "         \"Ini adalah contoh teks kategori 1\",\n",
        "         \"Ini adalah contoh teks kategori 2\",\n",
        "         \"Ini adalah contoh teks kategori 1\",\n",
        "         \"Ini adalah contoh teks kategori 3\",\n",
        "         \"Ini adalah contoh teks kategori 2\",\n",
        "         \"Ini adalah contoh teks kategori 3\",\n",
        "         \"Ini adalah contoh teks kategori 1\",\n",
        "         \"Ini adalah contoh teks kategori 2\",\n",
        "         \"Ini adalah contoh teks kategori 1\",\n",
        "         \"Ini adalah contoh teks kategori 3\",\n",
        "         \"Ini adalah contoh teks kategori 2\",\n",
        "         \"Ini adalah contoh teks kategori 3\",\n",
        "         \"Ini adalah contoh teks kategori 1\",\n",
        "         \"Ini adalah contoh teks kategori 2\"]\n",
        "\n",
        "labels = [\"kategori 1\", \"kategori 2\", \"kategori 1\", \"kategori 3\", \"kategori 2\",\n",
        "          \"kategori 3\", \"kategori 1\", \"kategori 2\", \"kategori 1\", \"kategori 3\",\n",
        "          \"kategori 2\", \"kategori 3\", \"kategori 1\", \"kategori 2\", \"kategori 1\",\n",
        "          \"kategori 3\", \"kategori 2\", \"kategori 3\", \"kategori 1\", \"kategori 2\"]\n",
        "\n",
        "# Melakukan encoding pada label kategori\n",
        "label_encoder = LabelEncoder()\n",
        "encoded_labels = label_encoder.fit_transform(labels)\n",
        "\n",
        "# Tokenisasi dan mengubah teks menjadi representasi numerik\n",
        "tokenizer = Tokenizer()\n",
        "tokenizer.fit_on_texts(texts)\n",
        "encoded_texts = tokenizer.texts_to_sequences(texts)\n",
        "\n",
        "# Padding sequence untuk membuat panjang yang sama\n",
        "max_sequence_length = max([len(seq) for seq in encoded_texts])\n",
        "padded_texts = pad_sequences(encoded_texts, maxlen=max_sequence_length, padding='post')\n",
        "\n",
        "# Membagi data menjadi data latih dan data uji\n",
        "X_train, X_test, y_train, y_test = train_test_split(padded_texts, encoded_labels, test_size=0.2, random_state=42)\n",
        "\n",
        "# Membangun model jaringan saraf tiruan\n",
        "model = Sequential()\n",
        "model.add(Embedding(input_dim=len(tokenizer.word_index) + 1, output_dim=64, input_length=max_sequence_length))\n",
        "model.add(LSTM(64))\n",
        "model.add(Dense(64, activation='relu'))\n",
        "model.add(Dense(len(label_encoder.classes_), activation='softmax'))\n",
        "model.compile(loss='sparse_categorical_crossentropy', optimizer='adam', metrics=['accuracy'])\n",
        "\n",
        "# Melatih model\n",
        "model.fit(X_train, y_train, epochs=10, batch_size=32, validation_data=(X_test, y_test))\n",
        "\n",
        "# Memprediksi data uji\n",
        "y_pred = model.predict(X_test)\n",
        "\n",
        "# Memprediksi data uji\n",
        "y_pred = model.predict(X_test)\n",
        "y_pred_classes = np.argmax(y_pred, axis=1)  # Mengambil indeks kelas dengan nilai probabilitas tertinggi\n",
        "\n",
        "# Membuat visualisasi confusion matrix\n",
        "cm = confusion_matrix(y_test, y_pred_classes)\n",
        "plt.figure(figsize=(8, 6))\n",
        "sns.heatmap(cm, annot=True, fmt='d', cmap='Blues')\n",
        "plt.xlabel('Prediksi')\n",
        "plt.ylabel('Aktual')\n",
        "plt.show()"
      ],
      "metadata": {
        "colab": {
          "base_uri": "https://localhost:8080/",
          "height": 966
        },
        "id": "SHkIuAIpuJgI",
        "outputId": "39d18a25-3fea-439e-ec27-c60cdf4785d1"
      },
      "execution_count": 18,
      "outputs": [
        {
          "output_type": "stream",
          "name": "stdout",
          "text": [
            "Epoch 1/10\n",
            "1/1 [==============================] - 4s 4s/step - loss: 1.0991 - accuracy: 0.2500 - val_loss: 1.0922 - val_accuracy: 1.0000\n",
            "Epoch 2/10\n",
            "1/1 [==============================] - 0s 92ms/step - loss: 1.0930 - accuracy: 1.0000 - val_loss: 1.0898 - val_accuracy: 0.5000\n",
            "Epoch 3/10\n",
            "1/1 [==============================] - 0s 135ms/step - loss: 1.0879 - accuracy: 0.7500 - val_loss: 1.0881 - val_accuracy: 0.2500\n",
            "Epoch 4/10\n",
            "1/1 [==============================] - 0s 152ms/step - loss: 1.0837 - accuracy: 0.3750 - val_loss: 1.0865 - val_accuracy: 0.2500\n",
            "Epoch 5/10\n",
            "1/1 [==============================] - 0s 128ms/step - loss: 1.0797 - accuracy: 0.3750 - val_loss: 1.0844 - val_accuracy: 0.2500\n",
            "Epoch 6/10\n",
            "1/1 [==============================] - 0s 123ms/step - loss: 1.0754 - accuracy: 0.3750 - val_loss: 1.0818 - val_accuracy: 0.2500\n",
            "Epoch 7/10\n",
            "1/1 [==============================] - 0s 152ms/step - loss: 1.0707 - accuracy: 0.3750 - val_loss: 1.0788 - val_accuracy: 0.2500\n",
            "Epoch 8/10\n",
            "1/1 [==============================] - 0s 91ms/step - loss: 1.0656 - accuracy: 0.3750 - val_loss: 1.0757 - val_accuracy: 0.2500\n",
            "Epoch 9/10\n",
            "1/1 [==============================] - 0s 82ms/step - loss: 1.0608 - accuracy: 0.3750 - val_loss: 1.0725 - val_accuracy: 0.2500\n",
            "Epoch 10/10\n",
            "1/1 [==============================] - 0s 114ms/step - loss: 1.0558 - accuracy: 0.3750 - val_loss: 1.0694 - val_accuracy: 0.2500\n"
          ]
        },
        {
          "output_type": "stream",
          "name": "stderr",
          "text": [
            "WARNING:tensorflow:6 out of the last 7 calls to <function Model.make_predict_function.<locals>.predict_function at 0x7f7aec977d00> triggered tf.function retracing. Tracing is expensive and the excessive number of tracings could be due to (1) creating @tf.function repeatedly in a loop, (2) passing tensors with different shapes, (3) passing Python objects instead of tensors. For (1), please define your @tf.function outside of the loop. For (2), @tf.function has reduce_retracing=True option that can avoid unnecessary retracing. For (3), please refer to https://www.tensorflow.org/guide/function#controlling_retracing and https://www.tensorflow.org/api_docs/python/tf/function for  more details.\n"
          ]
        },
        {
          "output_type": "stream",
          "name": "stdout",
          "text": [
            "1/1 [==============================] - 0s 427ms/step\n",
            "1/1 [==============================] - 0s 22ms/step\n"
          ]
        },
        {
          "output_type": "display_data",
          "data": {
            "text/plain": [
              "<Figure size 800x600 with 2 Axes>"
            ],
            "image/png": "[encoded data removed]"
          },
          "metadata": {}
        }
      ]
    }
  ]
}