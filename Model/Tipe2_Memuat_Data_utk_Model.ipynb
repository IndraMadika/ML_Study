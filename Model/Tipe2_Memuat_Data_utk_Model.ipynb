{
  "nbformat": 4,
  "nbformat_minor": 0,
  "metadata": {
    "colab": {
      "provenance": [],
      "authorship_tag": "ABX9TyPl7rPE78K2VrfhG/HV0XoT",
      "include_colab_link": true
    },
    "kernelspec": {
      "name": "python3",
      "display_name": "Python 3"
    },
    "language_info": {
      "name": "python"
    }
  },
  "cells": [
    {
      "cell_type": "markdown",
      "metadata": {
        "id": "view-in-github",
        "colab_type": "text"
      },
      "source": [
        "<a href=\"https://colab.research.google.com/github/IndraMadika/ML_Study/blob/main/Model/Tipe2_Memuat_Data_utk_Model.ipynb\" target=\"_parent\"><img src=\"https://colab.research.google.com/assets/colab-badge.svg\" alt=\"Open In Colab\"/></a>"
      ]
    },
    {
      "cell_type": "markdown",
      "source": [
        "**1. Menggunakan metode flow**"
      ],
      "metadata": {
        "id": "ivkiLOrJczj9"
      }
    },
    {
      "cell_type": "code",
      "source": [
        "from tensorflow.keras.preprocessing.image import ImageDataGenerator\n",
        "\n",
        "# Membuat objek ImageDataGenerator\n",
        "data_generator = ImageDataGenerator(rescale=1./255)\n",
        "\n",
        "# Memuat data dari larik numpy\n",
        "x_train = ... # Larik gambar training\n",
        "y_train = ... # Larik label training\n",
        "\n",
        "train_generator = data_generator.flow(x_train, y_train, batch_size=32)\n"
      ],
      "metadata": {
        "id": "nww-zdgTc2aj"
      },
      "execution_count": null,
      "outputs": []
    },
    {
      "cell_type": "markdown",
      "source": [
        "**2. Menggunakan metode flow_from_dataframe**"
      ],
      "metadata": {
        "id": "KleDctEUc-3D"
      }
    },
    {
      "cell_type": "code",
      "source": [
        "import pandas as pd\n",
        "from tensorflow.keras.preprocessing.image import ImageDataGenerator\n",
        "\n",
        "# Membuat objek ImageDataGenerator\n",
        "data_generator = ImageDataGenerator(rescale=1./255)\n",
        "\n",
        "# Memuat data dari DataFrame\n",
        "data_df = pd.read_csv('data.csv')\n",
        "image_dir = 'path/to/images'\n",
        "image_column = 'image_path'\n",
        "label_column = 'label'\n",
        "\n",
        "train_generator = data_generator.flow_from_dataframe(\n",
        "    data_df,\n",
        "    directory=image_dir,\n",
        "    x_col=image_column,\n",
        "    y_col=label_column,\n",
        "    target_size=(150, 150),\n",
        "    batch_size=32,\n",
        "    class_mode='binary'\n",
        ")\n"
      ],
      "metadata": {
        "id": "qUE0KaiYdDfd"
      },
      "execution_count": null,
      "outputs": []
    },
    {
      "cell_type": "markdown",
      "source": [
        "**3. Menggunakan metode flow_from_directory**"
      ],
      "metadata": {
        "id": "xirhtKyUdF_7"
      }
    },
    {
      "cell_type": "code",
      "source": [
        "from tensorflow.keras.preprocessing.image import ImageDataGenerator\n",
        "\n",
        "# Membuat objek ImageDataGenerator\n",
        "data_generator = ImageDataGenerator(rescale=1./255)\n",
        "\n",
        "# Memuat data dari direktori\n",
        "train_dir = 'path/to/train_directory'\n",
        "valid_dir = 'path/to/validation_directory'\n",
        "\n",
        "train_generator = data_generator.flow_from_directory(\n",
        "    train_dir,\n",
        "    target_size=(150, 150),\n",
        "    batch_size=32,\n",
        "    class_mode='binary'\n",
        ")\n",
        "\n",
        "valid_generator = data_generator.flow_from_directory(\n",
        "    valid_dir,\n",
        "    target_size=(150, 150),\n",
        "    batch_size=32,\n",
        "    class_mode='binary'\n",
        ")\n"
      ],
      "metadata": {
        "id": "jh-hQBvBdL2t"
      },
      "execution_count": null,
      "outputs": []
    },
    {
      "cell_type": "markdown",
      "source": [
        "**4. Menggunakan metode from_generator**"
      ],
      "metadata": {
        "id": "EK2MGE97dOZ7"
      }
    },
    {
      "cell_type": "code",
      "source": [
        "import numpy as np\n",
        "from tensorflow.keras.preprocessing.image import ImageDataGenerator\n",
        "\n",
        "# Membuat generator kustom\n",
        "def my_generator():\n",
        "    # Logika untuk menghasilkan input dan label secara dinamis\n",
        "    while True:\n",
        "        # Menghasilkan input dan label\n",
        "        x = ... # Input\n",
        "        y = ... # Label\n",
        "        yield x, y\n",
        "\n",
        "# Membuat objek ImageDataGenerator\n",
        "data_generator = ImageDataGenerator(rescale=1./255)\n",
        "\n",
        "# Memuat data menggunakan generator kustom\n",
        "train_generator = data_generator.from_generator(\n",
        "    my_generator,\n",
        "    (np.float32, np.float32),  # Tipe data input dan label\n",
        "    (batch_size,)  # Bentuk input\n",
        ")\n"
      ],
      "metadata": {
        "id": "_viY0ZZZdUhK"
      },
      "execution_count": null,
      "outputs": []
    },
    {
      "cell_type": "markdown",
      "source": [
        "Untuk data yang tidak memiliki label, Anda dapat menggunakan metode pemrosesan data tanpa melibatkan label. Beberapa metode yang dapat Anda gunakan adalah:"
      ],
      "metadata": {
        "id": "MJhBQ2WRfUfz"
      }
    },
    {
      "cell_type": "markdown",
      "source": [
        "flow atau flow_from_directory tanpa menyertakan argumen y_col atau class_mode='None':"
      ],
      "metadata": {
        "id": "iXdsTSzpfZZM"
      }
    },
    {
      "cell_type": "code",
      "source": [
        "from tensorflow.keras.preprocessing.image import ImageDataGenerator\n",
        "\n",
        "# Membuat objek ImageDataGenerator\n",
        "data_generator = ImageDataGenerator(rescale=1./255)\n",
        "\n",
        "# Memuat data tanpa label menggunakan flow\n",
        "x_train = ... # Larik gambar training\n",
        "train_generator = data_generator.flow(x_train, batch_size=32)\n",
        "\n",
        "# Atau memuat data tanpa label menggunakan flow_from_directory\n",
        "train_dir = 'path/to/train_directory'\n",
        "train_generator = data_generator.flow_from_directory(\n",
        "    train_dir,\n",
        "    target_size=(150, 150),\n",
        "    batch_size=32,\n",
        "    class_mode=None\n",
        ")\n"
      ],
      "metadata": {
        "id": "LRfYmFuSfV5I"
      },
      "execution_count": null,
      "outputs": []
    }
  ]
}