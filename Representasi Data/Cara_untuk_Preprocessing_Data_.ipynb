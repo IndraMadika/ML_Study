{
  "nbformat": 4,
  "nbformat_minor": 0,
  "metadata": {
    "colab": {
      "provenance": [],
      "authorship_tag": "ABX9TyPeJWtEufjMH4VCbtcKSg8R",
      "include_colab_link": true
    },
    "kernelspec": {
      "name": "python3",
      "display_name": "Python 3"
    },
    "language_info": {
      "name": "python"
    }
  },
  "cells": [
    {
      "cell_type": "markdown",
      "metadata": {
        "id": "view-in-github",
        "colab_type": "text"
      },
      "source": [
        "<a href=\"https://colab.research.google.com/github/IndraMadika/ML_Study/blob/main/Representasi%20Data/Cara_untuk_Preprocessing_Data_.ipynb\" target=\"_parent\"><img src=\"https://colab.research.google.com/assets/colab-badge.svg\" alt=\"Open In Colab\"/></a>"
      ]
    },
    {
      "cell_type": "code",
      "execution_count": null,
      "metadata": {
        "id": "52ySxKyx1knh"
      },
      "outputs": [],
      "source": []
    },
    {
      "cell_type": "markdown",
      "source": [
        "Beberapa Cara untuk Preprocessing Data dalam Machine Learning"
      ],
      "metadata": {
        "id": "yHo7RRgK1lD6"
      }
    },
    {
      "cell_type": "code",
      "source": [
        "import numpy as np\n",
        "from sklearn import preprocessing"
      ],
      "metadata": {
        "id": "IbmCMvvp1mGx"
      },
      "execution_count": 1,
      "outputs": []
    },
    {
      "cell_type": "markdown",
      "source": [
        "**Binarization**\n",
        "proses binarization adalah ketika kita ingin mengubah variabel numerik kedalam nilai boolean (0 dan 1)"
      ],
      "metadata": {
        "id": "o9Z5qseD1pmZ"
      }
    },
    {
      "cell_type": "markdown",
      "source": [
        "Sebagai contoh, jika input adalah array numpy berisi [1, 4, 6, 3, 8], maka setelah dijalankan kode tersebut, data_biner akan berisi [0, 0, 1, 0, 1], karena nilai di atas 5 diubah menjadi 1 dan nilai di bawah 5 diubah menjadi 0.\n",
        "\n",
        "Dengan menggunakan binarizer, data numerik dapat diubah menjadi representasi biner yang berguna dalam beberapa analisis atau pemodelan"
      ],
      "metadata": {
        "id": "RjDk-cE53KqD"
      }
    },
    {
      "cell_type": "code",
      "source": [
        "input = np.array([[8,2,3],\n",
        "                  [4,7,1],\n",
        "                  [9,2,6]])\n",
        "\n",
        "data_biner = preprocessing.Binarizer(threshold = 5).transform(input)\n",
        "data_biner"
      ],
      "metadata": {
        "colab": {
          "base_uri": "https://localhost:8080/"
        },
        "id": "gWmcwAZN1sbL",
        "outputId": "c3ca3cb4-330e-455d-f7ff-ebda5cb661f9"
      },
      "execution_count": 3,
      "outputs": [
        {
          "output_type": "execute_result",
          "data": {
            "text/plain": [
              "array([[1, 0, 0],\n",
              "       [0, 1, 0],\n",
              "       [1, 0, 1]])"
            ]
          },
          "metadata": {},
          "execution_count": 3
        }
      ]
    },
    {
      "cell_type": "code",
      "source": [],
      "metadata": {
        "id": "YK0NDd7P4te_"
      },
      "execution_count": null,
      "outputs": []
    },
    {
      "cell_type": "markdown",
      "source": [
        "**Mean Removal** <br>\n",
        "Mean removal adalah cara umum dalam teknik preprocessing yang digunakan dalam machine learning, menghilangkan rata-rata biasanya sangat berguna dari variabel, jadi variabel berada ditengah tengah pada angka 0. kita melakukannya untuk menghilangkan bias dari variabel"
      ],
      "metadata": {
        "id": "A7IoDF1n33Uc"
      }
    },
    {
      "cell_type": "code",
      "source": [],
      "metadata": {
        "id": "2yJAoU4z31dT"
      },
      "execution_count": null,
      "outputs": []
    },
    {
      "cell_type": "code",
      "source": [
        "# Sebelum mean removal\n",
        "print(\"Mean = \", input.mean(), \"\\n\", \"Std deviation = \", input.std(axis = 0))"
      ],
      "metadata": {
        "colab": {
          "base_uri": "https://localhost:8080/"
        },
        "id": "IDc-iKyg10VM",
        "outputId": "f06f6e45-15d1-436c-a196-f5b7bcfaf0b1"
      },
      "execution_count": 4,
      "outputs": [
        {
          "output_type": "stream",
          "name": "stdout",
          "text": [
            "Mean =  4.666666666666667 \n",
            " Std deviation =  [2.1602469  2.3570226  2.05480467]\n"
          ]
        }
      ]
    },
    {
      "cell_type": "code",
      "source": [
        "# Sesudah mean removal\n",
        "data_scaled = preprocessing.scale(input)\n",
        "print(\"Mean = \", data_scaled)\n",
        "print(\"Std deviation = \", data_scaled.std(axis = 0))"
      ],
      "metadata": {
        "colab": {
          "base_uri": "https://localhost:8080/"
        },
        "id": "RTzH3uby3e2X",
        "outputId": "38b925a5-1dcf-4687-d1b6-4c4de8c1fa04"
      },
      "execution_count": 6,
      "outputs": [
        {
          "output_type": "stream",
          "name": "stdout",
          "text": [
            "Mean =  [[ 0.46291005 -0.70710678 -0.16222142]\n",
            " [-1.38873015  1.41421356 -1.13554995]\n",
            " [ 0.9258201  -0.70710678  1.29777137]]\n",
            "Std deviation =  [1. 1. 1.]\n"
          ]
        }
      ]
    },
    {
      "cell_type": "code",
      "source": [],
      "metadata": {
        "id": "p7QoUjdG3kEM"
      },
      "execution_count": null,
      "outputs": []
    },
    {
      "cell_type": "markdown",
      "source": [
        "**Scaling** <br>\n",
        "biasanya dalam dataset yang masih mentah, beberapa variabel memiliki nilai yang sangat bervariasi dan random, jadi sangat penting untuk di scale feature feature tersebut, in my prespective feature-feature tersebut nilainya sangat besar atau kecil hanya karena the nature of measurements"
      ],
      "metadata": {
        "id": "EbEfYN7X4qYm"
      }
    },
    {
      "cell_type": "code",
      "source": [
        "\n",
        "data_scaler_minmax = preprocessing.MinMaxScaler(feature_range=(0, 1))\n",
        "data_scaled_minmax = data_scaler_minmax.fit_transform(input)\n",
        "data_scaled_minmax"
      ],
      "metadata": {
        "colab": {
          "base_uri": "https://localhost:8080/"
        },
        "id": "TKUxbR7c4sUD",
        "outputId": "0082d1db-ed1e-4790-f7c1-5cf76baf6b03"
      },
      "execution_count": 7,
      "outputs": [
        {
          "output_type": "execute_result",
          "data": {
            "text/plain": [
              "array([[0.8, 0. , 0.4],\n",
              "       [0. , 1. , 0. ],\n",
              "       [1. , 0. , 1. ]])"
            ]
          },
          "metadata": {},
          "execution_count": 7
        }
      ]
    },
    {
      "cell_type": "code",
      "source": [],
      "metadata": {
        "id": "HKoEs3_y47Yk"
      },
      "execution_count": null,
      "outputs": []
    },
    {
      "cell_type": "markdown",
      "source": [
        "**Normalization** <br>\n",
        "Biasanya dalam preprocessing, proses normalisasi untuk memodifikasi nilai dalam varabel sehingga kita dapat mengukurnya dalam skala umum. Dalam machine learning, kita menggunakan berbagai bentuk normalisasi. Beberapa bentuk normalisasi yang paling umum bertujuan untuk mengubah nilai-nilai sehingga jumlahnya menjadi 1.\n",
        "\n",
        "Normalisasi L1 (di library scikit-learn), yang mengacu pada Penyimpangan Absolut Terkecil, bekerja dengan memastikan bahwa jumlah nilai absolut adalah 1 dalam setiap baris.\n",
        "\n",
        "Normalisasi L2, yang mengacu pada kuadrat terkecil, bekerja dengan memastikan bahwa jumlah kuadrat adalah 1. Secara umum, teknik normalisasi L1 dianggap lebih kuat daripada teknik normalisasi L2. Teknik normalisasi L1 kuat karena tahan terhadap outlier dalam data. Seringkali, data cenderung mengandung outlier dan kita tidak bisa berbuat apa-apa. Kami ingin menggunakan teknik yang dapat dengan aman dan efektif mengabaikannya selama perhitungan. Jika kita memecahkan masalah di mana outlier itu penting, maka mungkin normalisasi L2 menjadi pilihan yang lebih baik"
      ],
      "metadata": {
        "id": "Nfw-Z1s047og"
      }
    },
    {
      "cell_type": "code",
      "source": [
        "data_normalized_l1 = preprocessing.normalize(input, norm='l1')\n",
        "data_normalized_l2 = preprocessing.normalize(input, norm='l2')\n",
        "print(\"\\nL1 normalized data:\\n\", data_normalized_l1)\n",
        "print(\"\\nL2 normalized data:\\n\", data_normalized_l2)"
      ],
      "metadata": {
        "colab": {
          "base_uri": "https://localhost:8080/"
        },
        "id": "xSTjGgy15P1k",
        "outputId": "d8cc8f16-4d29-4fd6-b7b8-185b9d75b9ac"
      },
      "execution_count": 8,
      "outputs": [
        {
          "output_type": "stream",
          "name": "stdout",
          "text": [
            "\n",
            "L1 normalized data:\n",
            " [[0.61538462 0.15384615 0.23076923]\n",
            " [0.33333333 0.58333333 0.08333333]\n",
            " [0.52941176 0.11764706 0.35294118]]\n",
            "\n",
            "L2 normalized data:\n",
            " [[0.91168461 0.22792115 0.34188173]\n",
            " [0.49236596 0.86164044 0.12309149]\n",
            " [0.81818182 0.18181818 0.54545455]]\n"
          ]
        }
      ]
    },
    {
      "cell_type": "code",
      "source": [],
      "metadata": {
        "id": "19Zbnx8n5snS"
      },
      "execution_count": null,
      "outputs": []
    },
    {
      "cell_type": "markdown",
      "source": [
        "**Label encoding** <br>\n",
        "Ketika kita melakukan klasifikasi, biasanya kita berurusan dengan banyak label. Label-label ini bisa dalam bentuk kata-kata, angka, atau sesuatu yang lain. Fungsi pembelajaran mesin dalam sklearn mengharapkan mereka menjadi angka. Jadi jika mereka sudah menjadi nomor, maka kita dapat menggunakannya secara langsung untuk memulai pelatihan. Tetapi ini tidak biasanya terjadi.\n",
        "Di dunia nyata, label dibuat dalam bentuk kata-kata, karena kata-kata dapat dibaca manusia. kita melabeli data training dengan kata-kata sehingga pemetaan dapat dilacak. Untuk mengonversi label kata menjadi angka, kita perlu menggunakan pembuat label encoding. label encoding mengacu pada proses transformasi label kata menjadi bentuk numerik. dalam hal regresi jika memuat varibel kategori dan nilainya tidak bisa di faktorisasi dalam bentuk tingkatan, dilakukan proses dummy, setiap nilai didalam variabel itu menjadi variabel lain."
      ],
      "metadata": {
        "id": "iPfMXpqF5sxp"
      }
    },
    {
      "cell_type": "code",
      "source": [
        "label_kategori = ['senin', 'selasa', 'rabu', 'kamis', 'jumat', 'sabtu', 'minggu']\n",
        "encoder = preprocessing.LabelEncoder()\n",
        "encoder.fit(label_kategori)\n",
        "\n",
        "print(\"\\nLabel mapping:\")\n",
        "for i, item in enumerate(encoder.classes_):\n",
        "    print(item, '>', i)"
      ],
      "metadata": {
        "colab": {
          "base_uri": "https://localhost:8080/"
        },
        "id": "opPz3M_R5vos",
        "outputId": "3f34a96b-c1f1-43c4-e578-7c9e70ce30cc"
      },
      "execution_count": 9,
      "outputs": [
        {
          "output_type": "stream",
          "name": "stdout",
          "text": [
            "\n",
            "Label mapping:\n",
            "jumat > 0\n",
            "kamis > 1\n",
            "minggu > 2\n",
            "rabu > 3\n",
            "sabtu > 4\n",
            "selasa > 5\n",
            "senin > 6\n"
          ]
        }
      ]
    },
    {
      "cell_type": "code",
      "source": [
        "# Encode list menggunakan encoder sebelumnya\n",
        "test_labels = ['senin', 'kamis', 'jumat']\n",
        "encoded_values = encoder.transform(test_labels)\n",
        "print(\"Labels =\", test_labels)\n",
        "print(\"Encoded values =\", list(encoded_values))\n"
      ],
      "metadata": {
        "colab": {
          "base_uri": "https://localhost:8080/"
        },
        "id": "k69N9rNJ6DWm",
        "outputId": "51d3c124-4d3f-438a-96ec-1328c907b303"
      },
      "execution_count": 11,
      "outputs": [
        {
          "output_type": "stream",
          "name": "stdout",
          "text": [
            "Labels = ['senin', 'kamis', 'jumat']\n",
            "Encoded values = [6, 1, 0]\n"
          ]
        }
      ]
    },
    {
      "cell_type": "code",
      "source": [],
      "metadata": {
        "id": "sfj78NUt6JC6"
      },
      "execution_count": null,
      "outputs": []
    }
  ]
}