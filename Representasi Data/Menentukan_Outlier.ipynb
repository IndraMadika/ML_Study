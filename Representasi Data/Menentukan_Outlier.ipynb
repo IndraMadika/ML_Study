{
  "nbformat": 4,
  "nbformat_minor": 0,
  "metadata": {
    "colab": {
      "provenance": [],
      "authorship_tag": "ABX9TyNQOPbspK7Keqinrf24O2/k",
      "include_colab_link": true
    },
    "kernelspec": {
      "name": "python3",
      "display_name": "Python 3"
    },
    "language_info": {
      "name": "python"
    }
  },
  "cells": [
    {
      "cell_type": "markdown",
      "metadata": {
        "id": "view-in-github",
        "colab_type": "text"
      },
      "source": [
        "<a href=\"https://colab.research.google.com/github/IndraMadika/ML_Study/blob/main/Representasi%20Data/Menentukan_Outlier.ipynb\" target=\"_parent\"><img src=\"https://colab.research.google.com/assets/colab-badge.svg\" alt=\"Open In Colab\"/></a>"
      ]
    },
    {
      "cell_type": "markdown",
      "source": [
        "Ada beberapa metode yang dapat digunakan untuk mengidentifikasi outlier dalam data. Berikut ini beberapa contoh metode yang umum digunakan:"
      ],
      "metadata": {
        "id": "nVqytusDkAB5"
      }
    },
    {
      "cell_type": "markdown",
      "source": [
        "**Metode Z-Score:**<br>\n",
        "Metode ini menghitung seberapa jauh suatu nilai dari rata-rata dalam satuan deviasi standar. Nilai yang memiliki z-score lebih dari ambang batas tertentu dianggap sebagai outlier. Berikut ini contoh penggunaan metode Z-Score dengan Python:"
      ],
      "metadata": {
        "id": "Hq9pUR6DkFT4"
      }
    },
    {
      "cell_type": "code",
      "execution_count": 27,
      "metadata": {
        "colab": {
          "base_uri": "https://localhost:8080/"
        },
        "id": "W4X_SKk9jEDI",
        "outputId": "052cddb1-d737-453d-fcdf-c5d491322f4f"
      },
      "outputs": [
        {
          "output_type": "stream",
          "name": "stdout",
          "text": [
            "Outliers: [1000000]\n"
          ]
        }
      ],
      "source": [
        "import numpy as np\n",
        "\n",
        "# Contoh data\n",
        "data = np.array([1, 2, 3, 10, 20, 30, 100, 80, 240, 1000000])\n",
        "\n",
        "# Menghitung Z-Score\n",
        "z_scores = (data - np.mean(data)) / np.std(data)\n",
        "\n",
        "# Menentukan ambang batas outlier\n",
        "threshold = 2.5\n",
        "\n",
        "# Mengidentifikasi outlier\n",
        "outliers = np.where(np.abs(z_scores) > threshold)[0]\n",
        "\n",
        "print(\"Outliers:\", data[outliers])\n"
      ]
    },
    {
      "cell_type": "code",
      "source": [],
      "metadata": {
        "id": "2_BTF07tkAuE"
      },
      "execution_count": null,
      "outputs": []
    },
    {
      "cell_type": "markdown",
      "source": [
        "**Metode IQR (Interquartile Range):**\n",
        "\n",
        "Metode ini menggunakan rentang antara kuartil pertama (Q1) dan kuartil ketiga (Q3) dalam data. Nilai yang berada di luar rentang Q1 - 1.5 * IQR dan Q3 + 1.5 * IQR dianggap sebagai outlier. Berikut ini contoh penggunaan metode IQR dengan Python:"
      ],
      "metadata": {
        "id": "OQuTXYmIkPLJ"
      }
    },
    {
      "cell_type": "code",
      "source": [
        "import numpy as np\n",
        "\n",
        "# Contoh data\n",
        "data = np.array([1, 2, 3, 10, 20, 30, 100, 900, 100000])\n",
        "\n",
        "# Menghitung kuartil pertama dan kuartil ketiga\n",
        "q1 = np.percentile(data, 25)\n",
        "q3 = np.percentile(data, 75)\n",
        "\n",
        "# Menghitung IQR\n",
        "iqr = q3 - q1\n",
        "\n",
        "# Menentukan ambang batas outlier\n",
        "threshold = 1.5 * iqr\n",
        "\n",
        "# Mengidentifikasi outlier\n",
        "outliers = np.where((data < q1 - threshold) | (data > q3 + threshold))[0]\n",
        "\n",
        "print(\"Outliers:\", data[outliers])\n"
      ],
      "metadata": {
        "colab": {
          "base_uri": "https://localhost:8080/"
        },
        "id": "Bd7MaTMkjOtk",
        "outputId": "a6c77fec-c517-4efa-8b55-e2ce6bf2734e"
      },
      "execution_count": 26,
      "outputs": [
        {
          "output_type": "stream",
          "name": "stdout",
          "text": [
            "Outliers: [   900 100000]\n"
          ]
        }
      ]
    },
    {
      "cell_type": "code",
      "source": [],
      "metadata": {
        "id": "Q7fUkgEoksUR"
      },
      "execution_count": null,
      "outputs": []
    },
    {
      "cell_type": "markdown",
      "source": [
        "**Metode Metode Hampiran Median Absolut (MAD):**\n",
        "\n",
        "Metode ini menggunakan Median Absolut Deviation (MAD) sebagai ukuran jarak data dari median. Nilai yang memiliki jarak lebih besar dari ambang batas tertentu (biasanya 2 atau 3 kali MAD) dianggap sebagai outlier. Berikut ini contoh penggunaan metode MAD dengan Python:"
      ],
      "metadata": {
        "id": "b1iQHhGCk1HI"
      }
    },
    {
      "cell_type": "code",
      "source": [
        "import numpy as np\n",
        "from statsmodels import robust\n",
        "\n",
        "# Contoh data\n",
        "data = np.array([1, 2, 3, 10, 20, 30, 100, 1000, 10000])\n",
        "\n",
        "# Menghitung Median Absolut Deviation (MAD)\n",
        "mad = robust.mad(data)\n",
        "\n",
        "# Menentukan ambang batas outlier\n",
        "threshold = 2 * mad\n",
        "\n",
        "# Mengidentifikasi outlier\n",
        "outliers = np.where(np.abs(data - np.median(data)) > threshold)[0]\n",
        "\n",
        "print(\"Outliers:\", data[outliers])\n"
      ],
      "metadata": {
        "colab": {
          "base_uri": "https://localhost:8080/"
        },
        "id": "XxDSYbBck3wP",
        "outputId": "f86c8c23-e653-48b5-d8b2-66f0936c9365"
      },
      "execution_count": 25,
      "outputs": [
        {
          "output_type": "stream",
          "name": "stdout",
          "text": [
            "Outliers: [  100  1000 10000]\n"
          ]
        }
      ]
    },
    {
      "cell_type": "code",
      "source": [],
      "metadata": {
        "id": "zZkZ-KkSk9X_"
      },
      "execution_count": null,
      "outputs": []
    },
    {
      "cell_type": "markdown",
      "source": [
        "Mempertimbangkan konteks dan pengetahuan domain saat melakukan identifikasi outlier berarti mengambil informasi tambahan tentang data dan pemahaman tentang domain atau bidang spesifik di mana data tersebut digunakan.\n",
        "\n",
        "Ketika Anda mengidentifikasi outlier, penting untuk memahami konteks data tersebut. Apa tujuan analisis data tersebut? Apakah ada faktor eksternal atau kondisi khusus yang dapat mempengaruhi data? Misalnya, jika Anda menganalisis data keuangan, outlier pada pendapatan atau pengeluaran mungkin memiliki makna yang berbeda tergantung pada industri atau sektor bisnis yang sedang dianalisis.\n",
        "\n",
        "Selain itu, pengetahuan domain juga sangat penting. Anda harus memahami pola, perilaku, dan karakteristik data dalam domain yang Anda kerjakan. Dalam beberapa kasus, **nilai yang dianggap outlier dalam satu domain mungkin sebenarnya merupakan nilai yang valid atau penting dalam domain lain.**\n",
        "\n",
        "Dengan mempertimbangkan konteks dan pengetahuan domain, Anda dapat menghindari kesalahan mengklasifikasikan nilai sebagai outlier **hanya berdasarkan analisis statistik semata**. Ini memungkinkan Anda untuk memahami alasan di balik nilai-nilai ekstrem tersebut dan memutuskan apakah nilai tersebut benar-benar outlier atau memiliki makna yang penting dalam konteks yang relevan."
      ],
      "metadata": {
        "id": "rtrJxZ2-lwrw"
      }
    },
    {
      "cell_type": "code",
      "source": [],
      "metadata": {
        "id": "eVQhaexFl7yi"
      },
      "execution_count": null,
      "outputs": []
    }
  ]
}