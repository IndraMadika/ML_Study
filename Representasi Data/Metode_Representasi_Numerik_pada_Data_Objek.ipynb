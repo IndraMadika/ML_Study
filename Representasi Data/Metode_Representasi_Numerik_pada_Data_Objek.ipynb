{
  "nbformat": 4,
  "nbformat_minor": 0,
  "metadata": {
    "colab": {
      "provenance": [],
      "authorship_tag": "ABX9TyMy57qVisVyJg1Qh6oR5zGa",
      "include_colab_link": true
    },
    "kernelspec": {
      "name": "python3",
      "display_name": "Python 3"
    },
    "language_info": {
      "name": "python"
    }
  },
  "cells": [
    {
      "cell_type": "markdown",
      "metadata": {
        "id": "view-in-github",
        "colab_type": "text"
      },
      "source": [
        "<a href=\"https://colab.research.google.com/github/IndraMadika/ML_Study/blob/main/Representasi%20Data/Metode_Representasi_Numerik_pada_Data_Objek.ipynb\" target=\"_parent\"><img src=\"https://colab.research.google.com/assets/colab-badge.svg\" alt=\"Open In Colab\"/></a>"
      ]
    },
    {
      "cell_type": "code",
      "execution_count": null,
      "metadata": {
        "id": "krP449hBJaU0"
      },
      "outputs": [],
      "source": []
    },
    {
      "cell_type": "markdown",
      "source": [
        "**Feature vectors, embeddings, dan hashing adalah tiga metode yang umum digunakan dalam machine learning untuk merepresentasikan data dalam bentuk numerik.**\n",
        "\n",
        "1. Feature Vectors: Feature vectors adalah representasi numerik dari fitur-fitur dalam suatu dataset, di mana setiap fitur direpresentasikan sebagai nilai numerik. Ini adalah metode yang paling sederhana dan umum digunakan untuk merepresentasikan data dalam machine learning. Fitur-fitur ini dapat berasal dari berbagai jenis data, seperti teks, gambar, atau audio.\n",
        "\n",
        "2. Embedding: Embedding adalah teknik representasi numerik yang biasanya digunakan untuk merepresentasikan data teks atau data yang mempunyai struktur kompleks, seperti graf atau jaringan sosial. Ini menghasilkan representasi yang lebih kompak dan ekspresif dari data, di mana setiap fitur direpresentasikan sebagai vektor numerik dalam ruang fitur yang lebih rendah. Embedding biasanya dihasilkan melalui proses pembelajaran pada dataset yang besar menggunakan algoritma seperti Word2Vec atau GloVe.\n",
        "\n",
        "3. Hashing: Hashing adalah teknik representasi numerik yang digunakan untuk merepresentasikan data teks atau data dengan dimensi yang sangat besar. Ini adalah metode yang paling sederhana dan cepat untuk merepresentasikan data dalam bentuk numerik. Dalam hashing, setiap fitur direpresentasikan sebagai bilangan integer yang dihasilkan dari suatu fungsi hash.\n",
        "\n",
        "--> Perbedaan utama antara feature vectors, embeddings, dan hashing adalah pada cara representasi data yang dihasilkan. Feature vectors mempresentasikan setiap fitur sebagai nilai numerik, embeddings menghasilkan vektor numerik dalam ruang fitur yang lebih rendah, sedangkan hashing menghasilkan bilangan integer yang dihasilkan dari suatu fungsi hash.\n",
        "\n",
        "--> Manfaat dari feature vectors adalah mudah dipahami dan dapat diimplementasikan dengan mudah. Embedding sangat berguna untuk merepresentasikan data yang mempunyai struktur kompleks, dan dapat menghasilkan representasi yang lebih kompak dan ekspresif dari data. Hashing sangat berguna untuk mengatasi masalah dimensi yang sangat besar pada data dan dapat menghasilkan representasi yang lebih efisien dan mudah dihitung.\n",
        "\n",
        "Dalam keseluruhan, pilihan metode representasi data yang tepat tergantung pada jenis data yang digunakan dan tujuan pengolahan datanya."
      ],
      "metadata": {
        "id": "z9gL2CS4JcqI"
      }
    },
    {
      "cell_type": "code",
      "source": [],
      "metadata": {
        "id": "SG2MrsyuJyqt"
      },
      "execution_count": null,
      "outputs": []
    },
    {
      "cell_type": "markdown",
      "source": [
        "**1. Feature Vectors**"
      ],
      "metadata": {
        "id": "UQMCmJIRJ2qo"
      }
    },
    {
      "cell_type": "code",
      "source": [
        "import numpy as np\n",
        "from sklearn.feature_extraction.text import CountVectorizer\n",
        "\n",
        "# Contoh data teks\n",
        "corpus = ['Ini adalah contoh kalimat pertama', 'Ini adalah contoh kalimat kedua', 'Ini adalah contoh kalimat ketiga']\n",
        "\n",
        "# Membuat objek CountVectorizer\n",
        "vectorizer = CountVectorizer()\n",
        "\n",
        "# Mengubah teks menjadi feature vectors\n",
        "feature_vectors = vectorizer.fit_transform(corpus)\n",
        "\n",
        "# Menampilkan hasil\n",
        "print(feature_vectors.toarray())"
      ],
      "metadata": {
        "colab": {
          "base_uri": "https://localhost:8080/"
        },
        "id": "6eeHBTlAJ5gF",
        "outputId": "9efb3a85-b841-47ec-9112-d36f80e7bba3"
      },
      "execution_count": 1,
      "outputs": [
        {
          "output_type": "stream",
          "name": "stdout",
          "text": [
            "[[1 1 1 1 0 0 1]\n",
            " [1 1 1 1 1 0 0]\n",
            " [1 1 1 1 0 1 0]]\n"
          ]
        }
      ]
    },
    {
      "cell_type": "markdown",
      "source": [
        "**2. Embedding**"
      ],
      "metadata": {
        "id": "XLcmltNEKNlx"
      }
    },
    {
      "cell_type": "code",
      "source": [
        "import tensorflow as tf\n",
        "\n",
        "# Contoh data teks\n",
        "corpus = ['Ini adalah contoh kalimat pertama', 'Ini adalah contoh kalimat kedua', 'Ini adalah contoh kalimat ketiga']\n",
        "\n",
        "# Membuat objek tokenizer\n",
        "tokenizer = tf.keras.preprocessing.text.Tokenizer()\n",
        "\n",
        "# Menghitung frekuensi kemunculan setiap kata dalam corpus\n",
        "tokenizer.fit_on_texts(corpus)\n",
        "\n",
        "# Mengubah teks menjadi sequences\n",
        "sequences = tokenizer.texts_to_sequences(corpus)\n",
        "\n",
        "# Menampilkan hasil tokenisasi\n",
        "print('Tokenization Result:')\n",
        "print(tokenizer.word_index)\n",
        "print(sequences)\n",
        "\n",
        "# Membuat objek embedding layer\n",
        "embedding_layer = tf.keras.layers.Embedding(input_dim=len(tokenizer.word_index)+1, output_dim=32)\n",
        "\n",
        "# Mengubah sequences menjadi embedding vectors\n",
        "embedding_vectors = embedding_layer(tf.constant(sequences))\n",
        "\n",
        "# Menampilkan hasil embedding vectors\n",
        "print('\\nEmbedding Result:')\n",
        "print(embedding_vectors.numpy())"
      ],
      "metadata": {
        "colab": {
          "base_uri": "https://localhost:8080/"
        },
        "id": "as6GMxFlJ8F4",
        "outputId": "54c5a239-45d2-4f87-aaa2-1b0c80e98f1c"
      },
      "execution_count": 3,
      "outputs": [
        {
          "output_type": "stream",
          "name": "stdout",
          "text": [
            "Tokenization Result:\n",
            "{'ini': 1, 'adalah': 2, 'contoh': 3, 'kalimat': 4, 'pertama': 5, 'kedua': 6, 'ketiga': 7}\n",
            "[[1, 2, 3, 4, 5], [1, 2, 3, 4, 6], [1, 2, 3, 4, 7]]\n",
            "\n",
            "Embedding Result:\n",
            "[[[-1.7934989e-02  4.8949372e-02 -3.3395339e-02 -3.6279570e-02\n",
            "   -1.9988848e-02  4.6885561e-02 -2.8623231e-03 -4.6275653e-02\n",
            "    1.9392382e-02  2.9187631e-02  4.9417447e-02 -3.0143607e-02\n",
            "   -4.2205263e-02 -3.8082562e-02 -1.2003899e-02 -1.4891826e-02\n",
            "   -2.7538121e-02  1.2469530e-02 -2.2566319e-04 -2.5711274e-02\n",
            "   -1.3294108e-03  3.8911104e-03  3.7217978e-02  2.7907122e-02\n",
            "   -3.8968813e-02 -9.8674297e-03 -7.5428598e-03 -4.8725497e-02\n",
            "    3.6052261e-02 -1.4723349e-02 -2.6681472e-02  6.7257509e-03]\n",
            "  [ 4.8631791e-02  2.0469371e-02  4.0728059e-02  3.0944157e-02\n",
            "    7.0341676e-04  4.1835878e-02  1.8650517e-03  2.5173176e-02\n",
            "    3.1205203e-02 -4.6008017e-02 -2.9802775e-02  2.6278745e-02\n",
            "   -2.3842264e-02  3.9823320e-02 -1.2305189e-02 -1.8074155e-02\n",
            "    1.6726885e-02  1.7290507e-02  2.5879335e-02  1.5008736e-02\n",
            "    2.3984160e-02  1.6452182e-02 -3.8607143e-02 -2.9886985e-02\n",
            "   -4.8077404e-02 -2.9978657e-02 -2.3262620e-02 -2.8956890e-02\n",
            "   -2.3919297e-02 -4.9669575e-02 -2.5025606e-02 -2.9619837e-02]\n",
            "  [-3.8581111e-02 -1.5803613e-02  3.0188560e-03 -1.2896370e-02\n",
            "    1.3857972e-02 -1.1071611e-02 -8.3008781e-03 -4.7358703e-02\n",
            "   -1.6010631e-02 -3.0296778e-02 -3.1572510e-02 -1.5320629e-04\n",
            "    1.5004624e-02 -1.1405062e-02 -3.5534054e-04  4.7941696e-02\n",
            "    3.9729390e-02  8.2868710e-03  5.6146160e-03 -3.1806707e-02\n",
            "   -3.8763285e-03 -1.4986347e-02  1.9575283e-04 -1.0203410e-02\n",
            "    5.2555576e-03 -5.8716759e-03 -1.9226218e-02 -2.6480211e-02\n",
            "   -2.6792729e-02  1.2311116e-03  2.0528149e-02 -3.8967215e-02]\n",
            "  [-2.0239580e-02 -8.8670850e-03  3.2293286e-02  4.4191327e-02\n",
            "    4.7521714e-02 -1.9531811e-02  3.3077870e-02 -4.4193566e-02\n",
            "    1.0451458e-02 -1.1274587e-02  3.8027652e-03  2.7068112e-02\n",
            "    3.8189318e-02  3.8006652e-02  2.4403259e-04  4.8337471e-02\n",
            "   -3.6874928e-02  2.6384685e-02 -4.4386137e-02 -4.6127606e-02\n",
            "    4.4979069e-02 -3.7856113e-02  7.0826784e-03  1.7431762e-02\n",
            "    4.6367433e-02 -1.4995456e-02  4.1984987e-02  1.9608285e-02\n",
            "    2.4016786e-02 -2.6859796e-02  1.8536869e-02  1.9475508e-02]\n",
            "  [ 2.2045802e-02 -1.0569319e-03  4.2524900e-02 -1.2943588e-02\n",
            "    4.2909715e-02 -8.7696537e-03 -1.7955303e-03  1.3422221e-05\n",
            "    1.1352241e-02 -4.7688615e-02 -2.9408205e-02 -3.1466402e-02\n",
            "   -3.6134921e-02  2.3573730e-02  2.2449825e-02  2.9962365e-02\n",
            "   -4.1803610e-02  4.5868706e-02  2.5698844e-02  9.9457428e-04\n",
            "    1.5995923e-02  3.7785891e-02  9.0418682e-03  4.5095298e-02\n",
            "    3.3280257e-02  2.5180642e-02 -2.2995664e-02 -4.8050176e-02\n",
            "   -4.7946919e-02  1.3134252e-02  4.0187251e-02  3.0525956e-02]]\n",
            "\n",
            " [[-1.7934989e-02  4.8949372e-02 -3.3395339e-02 -3.6279570e-02\n",
            "   -1.9988848e-02  4.6885561e-02 -2.8623231e-03 -4.6275653e-02\n",
            "    1.9392382e-02  2.9187631e-02  4.9417447e-02 -3.0143607e-02\n",
            "   -4.2205263e-02 -3.8082562e-02 -1.2003899e-02 -1.4891826e-02\n",
            "   -2.7538121e-02  1.2469530e-02 -2.2566319e-04 -2.5711274e-02\n",
            "   -1.3294108e-03  3.8911104e-03  3.7217978e-02  2.7907122e-02\n",
            "   -3.8968813e-02 -9.8674297e-03 -7.5428598e-03 -4.8725497e-02\n",
            "    3.6052261e-02 -1.4723349e-02 -2.6681472e-02  6.7257509e-03]\n",
            "  [ 4.8631791e-02  2.0469371e-02  4.0728059e-02  3.0944157e-02\n",
            "    7.0341676e-04  4.1835878e-02  1.8650517e-03  2.5173176e-02\n",
            "    3.1205203e-02 -4.6008017e-02 -2.9802775e-02  2.6278745e-02\n",
            "   -2.3842264e-02  3.9823320e-02 -1.2305189e-02 -1.8074155e-02\n",
            "    1.6726885e-02  1.7290507e-02  2.5879335e-02  1.5008736e-02\n",
            "    2.3984160e-02  1.6452182e-02 -3.8607143e-02 -2.9886985e-02\n",
            "   -4.8077404e-02 -2.9978657e-02 -2.3262620e-02 -2.8956890e-02\n",
            "   -2.3919297e-02 -4.9669575e-02 -2.5025606e-02 -2.9619837e-02]\n",
            "  [-3.8581111e-02 -1.5803613e-02  3.0188560e-03 -1.2896370e-02\n",
            "    1.3857972e-02 -1.1071611e-02 -8.3008781e-03 -4.7358703e-02\n",
            "   -1.6010631e-02 -3.0296778e-02 -3.1572510e-02 -1.5320629e-04\n",
            "    1.5004624e-02 -1.1405062e-02 -3.5534054e-04  4.7941696e-02\n",
            "    3.9729390e-02  8.2868710e-03  5.6146160e-03 -3.1806707e-02\n",
            "   -3.8763285e-03 -1.4986347e-02  1.9575283e-04 -1.0203410e-02\n",
            "    5.2555576e-03 -5.8716759e-03 -1.9226218e-02 -2.6480211e-02\n",
            "   -2.6792729e-02  1.2311116e-03  2.0528149e-02 -3.8967215e-02]\n",
            "  [-2.0239580e-02 -8.8670850e-03  3.2293286e-02  4.4191327e-02\n",
            "    4.7521714e-02 -1.9531811e-02  3.3077870e-02 -4.4193566e-02\n",
            "    1.0451458e-02 -1.1274587e-02  3.8027652e-03  2.7068112e-02\n",
            "    3.8189318e-02  3.8006652e-02  2.4403259e-04  4.8337471e-02\n",
            "   -3.6874928e-02  2.6384685e-02 -4.4386137e-02 -4.6127606e-02\n",
            "    4.4979069e-02 -3.7856113e-02  7.0826784e-03  1.7431762e-02\n",
            "    4.6367433e-02 -1.4995456e-02  4.1984987e-02  1.9608285e-02\n",
            "    2.4016786e-02 -2.6859796e-02  1.8536869e-02  1.9475508e-02]\n",
            "  [ 2.7589012e-02 -4.3354511e-02  1.1720337e-02 -3.8885139e-02\n",
            "    9.2522129e-03 -4.8727121e-02 -4.5744803e-02 -8.4007606e-03\n",
            "   -4.7846809e-03 -2.0293109e-03 -3.7245620e-02 -1.7173372e-02\n",
            "   -2.4345338e-02 -9.9447481e-03  3.8892064e-02 -1.6249787e-02\n",
            "   -1.0476030e-02  2.6417565e-02  1.3427544e-02 -4.8168551e-02\n",
            "   -2.2462273e-02 -1.0272671e-02  2.0436857e-02 -2.1007026e-02\n",
            "    8.2156174e-03 -3.3424295e-02  2.0051513e-02  4.2644586e-02\n",
            "   -2.5188243e-02  4.8959877e-02  2.0243037e-02 -4.7659446e-02]]\n",
            "\n",
            " [[-1.7934989e-02  4.8949372e-02 -3.3395339e-02 -3.6279570e-02\n",
            "   -1.9988848e-02  4.6885561e-02 -2.8623231e-03 -4.6275653e-02\n",
            "    1.9392382e-02  2.9187631e-02  4.9417447e-02 -3.0143607e-02\n",
            "   -4.2205263e-02 -3.8082562e-02 -1.2003899e-02 -1.4891826e-02\n",
            "   -2.7538121e-02  1.2469530e-02 -2.2566319e-04 -2.5711274e-02\n",
            "   -1.3294108e-03  3.8911104e-03  3.7217978e-02  2.7907122e-02\n",
            "   -3.8968813e-02 -9.8674297e-03 -7.5428598e-03 -4.8725497e-02\n",
            "    3.6052261e-02 -1.4723349e-02 -2.6681472e-02  6.7257509e-03]\n",
            "  [ 4.8631791e-02  2.0469371e-02  4.0728059e-02  3.0944157e-02\n",
            "    7.0341676e-04  4.1835878e-02  1.8650517e-03  2.5173176e-02\n",
            "    3.1205203e-02 -4.6008017e-02 -2.9802775e-02  2.6278745e-02\n",
            "   -2.3842264e-02  3.9823320e-02 -1.2305189e-02 -1.8074155e-02\n",
            "    1.6726885e-02  1.7290507e-02  2.5879335e-02  1.5008736e-02\n",
            "    2.3984160e-02  1.6452182e-02 -3.8607143e-02 -2.9886985e-02\n",
            "   -4.8077404e-02 -2.9978657e-02 -2.3262620e-02 -2.8956890e-02\n",
            "   -2.3919297e-02 -4.9669575e-02 -2.5025606e-02 -2.9619837e-02]\n",
            "  [-3.8581111e-02 -1.5803613e-02  3.0188560e-03 -1.2896370e-02\n",
            "    1.3857972e-02 -1.1071611e-02 -8.3008781e-03 -4.7358703e-02\n",
            "   -1.6010631e-02 -3.0296778e-02 -3.1572510e-02 -1.5320629e-04\n",
            "    1.5004624e-02 -1.1405062e-02 -3.5534054e-04  4.7941696e-02\n",
            "    3.9729390e-02  8.2868710e-03  5.6146160e-03 -3.1806707e-02\n",
            "   -3.8763285e-03 -1.4986347e-02  1.9575283e-04 -1.0203410e-02\n",
            "    5.2555576e-03 -5.8716759e-03 -1.9226218e-02 -2.6480211e-02\n",
            "   -2.6792729e-02  1.2311116e-03  2.0528149e-02 -3.8967215e-02]\n",
            "  [-2.0239580e-02 -8.8670850e-03  3.2293286e-02  4.4191327e-02\n",
            "    4.7521714e-02 -1.9531811e-02  3.3077870e-02 -4.4193566e-02\n",
            "    1.0451458e-02 -1.1274587e-02  3.8027652e-03  2.7068112e-02\n",
            "    3.8189318e-02  3.8006652e-02  2.4403259e-04  4.8337471e-02\n",
            "   -3.6874928e-02  2.6384685e-02 -4.4386137e-02 -4.6127606e-02\n",
            "    4.4979069e-02 -3.7856113e-02  7.0826784e-03  1.7431762e-02\n",
            "    4.6367433e-02 -1.4995456e-02  4.1984987e-02  1.9608285e-02\n",
            "    2.4016786e-02 -2.6859796e-02  1.8536869e-02  1.9475508e-02]\n",
            "  [ 2.8665964e-02 -1.7386816e-02 -1.5550531e-02  1.9306447e-02\n",
            "    1.1527706e-02  4.5346990e-03 -2.5747513e-02 -1.2061905e-02\n",
            "    4.7457669e-02 -4.7139205e-02 -2.5369560e-02 -4.4788625e-02\n",
            "   -8.5895173e-03 -4.5657244e-02  3.3536900e-02  4.9602043e-02\n",
            "    2.7387049e-02 -2.8065193e-02  2.1877516e-02 -8.8245645e-03\n",
            "    3.2458853e-02  3.7940372e-02  1.6104352e-02  9.1266409e-03\n",
            "    4.4968892e-02 -4.5965686e-03 -4.6897307e-03  2.7539495e-02\n",
            "    2.1244287e-03 -2.7471352e-02  2.7959418e-02  4.6693418e-02]]]\n"
          ]
        }
      ]
    },
    {
      "cell_type": "markdown",
      "source": [
        "3. Hashing"
      ],
      "metadata": {
        "id": "jcW_SrvCLssw"
      }
    },
    {
      "cell_type": "code",
      "source": [
        "from sklearn.feature_extraction.text import HashingVectorizer\n",
        "\n",
        "# Contoh data teks\n",
        "corpus = ['Ini adalah contoh kalimat pertama', 'Ini adalah contoh kalimat kedua', 'Ini adalah contoh kalimat ketiga']\n",
        "\n",
        "# Membuat objek HashingVectorizer\n",
        "vectorizer = HashingVectorizer(n_features=10)\n",
        "\n",
        "# Mengubah teks menjadi feature vectors\n",
        "feature_vectors = vectorizer.transform(corpus)\n",
        "\n",
        "# Menampilkan hasil\n",
        "print(feature_vectors.toarray())"
      ],
      "metadata": {
        "colab": {
          "base_uri": "https://localhost:8080/"
        },
        "id": "x71Lu94kKT9u",
        "outputId": "1839dc51-3b37-46f7-b306-c8dd2728352d"
      },
      "execution_count": 4,
      "outputs": [
        {
          "output_type": "stream",
          "name": "stdout",
          "text": [
            "[[ 0.          0.          0.          0.          0.90453403  0.\n",
            "  -0.30151134  0.          0.          0.30151134]\n",
            " [ 0.          0.          0.          0.          0.9701425   0.\n",
            "   0.          0.          0.          0.24253563]\n",
            " [ 0.         -0.30151134  0.          0.          0.90453403  0.\n",
            "   0.          0.          0.          0.30151134]]\n"
          ]
        }
      ]
    },
    {
      "cell_type": "code",
      "source": [],
      "metadata": {
        "id": "_PhqeplXL3p1"
      },
      "execution_count": null,
      "outputs": []
    }
  ]
}