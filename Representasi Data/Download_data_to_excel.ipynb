{
  "nbformat": 4,
  "nbformat_minor": 0,
  "metadata": {
    "colab": {
      "provenance": [],
      "authorship_tag": "ABX9TyO9+TUEfVCpXvD1GimA5Vhq",
      "include_colab_link": true
    },
    "kernelspec": {
      "name": "python3",
      "display_name": "Python 3"
    },
    "language_info": {
      "name": "python"
    }
  },
  "cells": [
    {
      "cell_type": "markdown",
      "metadata": {
        "id": "view-in-github",
        "colab_type": "text"
      },
      "source": [
        "<a href=\"https://colab.research.google.com/github/IndraMadika/ML_Study/blob/main/Representasi%20Data/Download_data_to_excel.ipynb\" target=\"_parent\"><img src=\"https://colab.research.google.com/assets/colab-badge.svg\" alt=\"Open In Colab\"/></a>"
      ]
    },
    {
      "cell_type": "code",
      "execution_count": 3,
      "metadata": {
        "id": "u_bNfv98nPLs"
      },
      "outputs": [],
      "source": [
        "import pandas as pd\n",
        "import numpy as np\n",
        "# Data Training\n",
        "X_train = np.array([[1000, 3, 1990],\n",
        "                    [1500, 4, 1980],\n",
        "                    [1200, 3, 2005],\n",
        "                    [1800, 4, 1995],\n",
        "                    [900, 2, 2010]])\n",
        "y_train = np.array([500000, 700000, 600000, 800000, 450000])\n",
        "\n",
        "# Membuat DataFrame\n",
        "df = pd.DataFrame(np.column_stack([X_train, y_train]), columns=['Luas Tanah', 'Jumlah Kamar', 'Tahun Didirikan', 'Harga Rumah'])\n",
        "\n",
        "# Menyimpan DataFrame ke dalam file Excel\n",
        "df.to_excel('data_train.xlsx', index=True)\n"
      ]
    },
    {
      "cell_type": "code",
      "source": [
        "X_test = np.array([[1300, 3, 2000],\n",
        "                   [1600, 4, 1998],\n",
        "                   [1100, 2, 2015]])\n",
        "\n",
        "df_test = pd.DataFrame(X_test, columns = ['Luas Tanah', 'Jumlah Kamar', 'Tahun Didirikan'])\n",
        "df_test.to_excel('data_testing.xlsx', index=True)"
      ],
      "metadata": {
        "id": "65JO74G-nWWU"
      },
      "execution_count": 9,
      "outputs": []
    },
    {
      "cell_type": "code",
      "source": [],
      "metadata": {
        "id": "aMWaHTuApTaO"
      },
      "execution_count": null,
      "outputs": []
    }
  ]
}