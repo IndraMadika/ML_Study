{
  "nbformat": 4,
  "nbformat_minor": 0,
  "metadata": {
    "colab": {
      "provenance": [],
      "authorship_tag": "ABX9TyOnRfVqcjRHLVpIMG0zOrlx",
      "include_colab_link": true
    },
    "kernelspec": {
      "name": "python3",
      "display_name": "Python 3"
    },
    "language_info": {
      "name": "python"
    }
  },
  "cells": [
    {
      "cell_type": "markdown",
      "metadata": {
        "id": "view-in-github",
        "colab_type": "text"
      },
      "source": [
        "<a href=\"https://colab.research.google.com/github/IndraMadika/ML_Study/blob/main/Representasi%20Data/Multiclass_classification_dengan_berbagai_metode.ipynb\" target=\"_parent\"><img src=\"https://colab.research.google.com/assets/colab-badge.svg\" alt=\"Open In Colab\"/></a>"
      ]
    },
    {
      "cell_type": "markdown",
      "source": [
        "Contoh kodingan untuk multiclass classification dengan berbagai metode encoding, yaitu One-Hot Encoding, Integer Encoding, Binary Encoding, dan Label Encoding."
      ],
      "metadata": {
        "id": "dCo-0RXRgS5X"
      }
    },
    {
      "cell_type": "markdown",
      "source": [
        "**Jenis Tugas Klasifikasi: Binary Classification**\n",
        "\n",
        "1. Jumlah Kategori: 2 (Misalnya, kategori \"Positif\" dan \"Negatif\") <br>\n",
        "    <ul>\n",
        "      <li>One-Hot Encoding: [1, 0] untuk kategori \"Positif\" dan [0, 1] untuk kategori \"Negatif\"\n",
        "      <li>Integer Encoding: 0 untuk kategori \"Positif\" dan 1 untuk kategori \"Negatif\"\n",
        "      <li>Binary Encoding: 0 untuk kategori \"Positif\" dan 1 untuk kategori \"Negatif\"\n",
        "      <li>Label Encoding: 0 untuk kategori \"Positif\" dan 1 untuk kategori \"Negatif\"\n",
        "    </ul>\n",
        "**Jenis Tugas Klasifikasi: Multiclass Classification**\n",
        "\n",
        "2. Jumlah Kategori: 3 (Misalnya, kategori \"A\", \"B\", dan \"C\")\n",
        "    <ul>\n",
        "      <li>One-Hot Encoding: [1, 0, 0] untuk kategori \"A\", [0, 1, 0] untuk kategori \"B\", dan [0, 0, 1] untuk kategori \"C\"\n",
        "      <li>Integer Encoding: 0 untuk kategori \"A\", 1 untuk kategori \"B\", dan 2 untuk kategori \"C\"\n",
        "      <li>Binary Encoding: 00 untuk kategori \"A\", 01 untuk kategori \"B\", dan 10 untuk kategori \"C\"\n",
        "      <li>Label Encoding: 0 untuk kategori \"A\", 1 untuk kategori \"B\", dan 2 untuk kategori \"C\"\n",
        "    </ul>\n",
        "**Jenis Tugas Klasifikasi: Multilabel Classification**\n",
        "\n",
        "3. Jumlah Kategori: 4 (Misalnya, kategori \"A\", \"B\", \"C\", dan \"D\")\n",
        "  <ul>\n",
        "    <li>One-Hot Encoding: [1, 0, 0, 1] untuk kategori \"A\" dan \"D\", [0, 1, 1, 0] untuk kategori \"B\" dan \"C\"\n",
        "    <li>Integer Encoding: 0 untuk kategori \"A\", 1 untuk kategori \"B\", 2 untuk kategori \"C\", dan 3 untuk kategori \"D\"\n",
        "    <li>Binary Encoding: 0101 untuk kategori \"A\" dan \"D\", 1010 untuk kategori \"B\" dan \"C\"\n",
        "    <li>Label Encoding: Tidak relevan untuk tugas multilabel classification\n",
        "  </ul>"
      ],
      "metadata": {
        "id": "5tmx9GsCkKvM"
      }
    },
    {
      "cell_type": "code",
      "execution_count": 11,
      "metadata": {
        "colab": {
          "base_uri": "https://localhost:8080/"
        },
        "id": "FxAf6HWjNtnk",
        "outputId": "762543e0-c789-4865-dc27-1aafba775898"
      },
      "outputs": [
        {
          "output_type": "stream",
          "name": "stdout",
          "text": [
            "One-Hot Encoded:\n",
            "[[1. 0. 0. 0. 0. 0. 0. 0. 0. 0.]\n",
            " [0. 1. 0. 0. 0. 0. 0. 0. 0. 0.]\n",
            " [0. 0. 1. 0. 0. 0. 0. 0. 0. 0.]\n",
            " [0. 0. 0. 1. 0. 0. 0. 0. 0. 0.]\n",
            " [0. 0. 0. 0. 1. 0. 0. 0. 0. 0.]\n",
            " [0. 0. 0. 0. 0. 1. 0. 0. 0. 0.]\n",
            " [0. 0. 0. 0. 0. 0. 1. 0. 0. 0.]\n",
            " [0. 0. 0. 0. 0. 0. 0. 1. 0. 0.]\n",
            " [0. 0. 0. 0. 0. 0. 0. 0. 1. 0.]\n",
            " [0. 0. 0. 0. 0. 0. 0. 0. 0. 1.]]\n",
            "\n",
            "Integer Encoded:\n",
            "[0 1 2 0 1 2 0 1 2 0]\n",
            "\n",
            "Binary Encoded:\n",
            "[[1 0 0]\n",
            " [0 1 0]\n",
            " [0 0 1]\n",
            " [1 0 0]\n",
            " [0 1 0]\n",
            " [0 0 1]\n",
            " [1 0 0]\n",
            " [0 1 0]\n",
            " [0 0 1]\n",
            " [1 0 0]]\n",
            "\n",
            "Label Encoded:\n",
            "[[0.]\n",
            " [1.]\n",
            " [2.]\n",
            " [3.]\n",
            " [4.]\n",
            " [5.]\n",
            " [6.]\n",
            " [7.]\n",
            " [8.]\n",
            " [9.]]\n"
          ]
        },
        {
          "output_type": "stream",
          "name": "stderr",
          "text": [
            "/usr/local/lib/python3.10/dist-packages/sklearn/preprocessing/_encoders.py:868: FutureWarning: `sparse` was renamed to `sparse_output` in version 1.2 and will be removed in 1.4. `sparse_output` is ignored unless you leave `sparse` to its default value.\n",
            "  warnings.warn(\n"
          ]
        }
      ],
      "source": [
        "import numpy as np\n",
        "import pandas as pd\n",
        "from sklearn.model_selection import train_test_split\n",
        "from sklearn.preprocessing import LabelEncoder, OneHotEncoder, LabelBinarizer, OrdinalEncoder\n",
        "from sklearn.linear_model import LogisticRegression\n",
        "from sklearn.metrics import accuracy_score\n",
        "\n",
        "# Contoh data multiclass\n",
        "data = pd.DataFrame({\n",
        "    'feature_1': ['A', 'B', 'C', 'D', 'E', 'F', 'G', 'H', 'I', 'J'],\n",
        "    'label': ['Class 1', 'Class 2', 'Class 3', 'Class 1', 'Class 2', 'Class 3', 'Class 1', 'Class 2', 'Class 3', 'Class 1']\n",
        "})\n",
        "\n",
        "# One-Hot Encoding\n",
        "one_hot_encoder = OneHotEncoder(sparse=False)\n",
        "one_hot_encoded = one_hot_encoder.fit_transform(data[['feature_1']])\n",
        "print(\"One-Hot Encoded:\")\n",
        "print(one_hot_encoded)\n",
        "\n",
        "# Integer Encoding\n",
        "integer_encoder = LabelEncoder()\n",
        "integer_encoded = integer_encoder.fit_transform(data['label'])\n",
        "print(\"\\nInteger Encoded:\")\n",
        "print(integer_encoded)\n",
        "\n",
        "# Binary Encoding\n",
        "binary_encoder = LabelBinarizer()\n",
        "binary_encoded = binary_encoder.fit_transform(data['label'])\n",
        "print(\"\\nBinary Encoded:\")\n",
        "print(binary_encoded)\n",
        "\n",
        "# Label Encoding\n",
        "label_encoder = OrdinalEncoder()\n",
        "label_encoded = label_encoder.fit_transform(data[['feature_1']])\n",
        "print(\"\\nLabel Encoded:\")\n",
        "print(label_encoded)"
      ]
    },
    {
      "cell_type": "code",
      "source": [],
      "metadata": {
        "id": "KsGixpzZgaRK"
      },
      "execution_count": null,
      "outputs": []
    }
  ]
}