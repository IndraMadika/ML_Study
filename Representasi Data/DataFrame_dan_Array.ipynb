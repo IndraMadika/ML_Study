{
  "nbformat": 4,
  "nbformat_minor": 0,
  "metadata": {
    "colab": {
      "provenance": [],
      "authorship_tag": "ABX9TyPbZqP2AdJXM5f7enAXhaPn",
      "include_colab_link": true
    },
    "kernelspec": {
      "name": "python3",
      "display_name": "Python 3"
    },
    "language_info": {
      "name": "python"
    }
  },
  "cells": [
    {
      "cell_type": "markdown",
      "metadata": {
        "id": "view-in-github",
        "colab_type": "text"
      },
      "source": [
        "<a href=\"https://colab.research.google.com/github/IndraMadika/ML_Study/blob/main/Representasi%20Data/DataFrame_dan_Array.ipynb\" target=\"_parent\"><img src=\"https://colab.research.google.com/assets/colab-badge.svg\" alt=\"Open In Colab\"/></a>"
      ]
    },
    {
      "cell_type": "markdown",
      "source": [
        "Contoh penggunaan data dengan library Pandas:"
      ],
      "metadata": {
        "id": "f2WM6zKawIps"
      }
    },
    {
      "cell_type": "code",
      "execution_count": 6,
      "metadata": {
        "colab": {
          "base_uri": "https://localhost:8080/"
        },
        "id": "_xwPgUY8veYT",
        "outputId": "b054a9ce-9575-4a51-e01e-3629dcb57b21"
      },
      "outputs": [
        {
          "output_type": "stream",
          "name": "stdout",
          "text": [
            "Pandas data :\n",
            "    Luas Tanah  Jumlah Kamar  Tahun Didirikan  Harga Rumah\n",
            "0        1000             3             1990       500000\n",
            "1        1500             4             1980       700000\n",
            "2        1200             3             2005       600000\n",
            "3        1800             4             1995       800000\n",
            "4         900             2             2010       450000 \n",
            "\n",
            "Array data :\n",
            " [[  1000      3   1990 500000]\n",
            " [  1500      4   1980 700000]\n",
            " [  1200      3   2005 600000]\n",
            " [  1800      4   1995 800000]\n",
            " [   900      2   2010 450000]]\n"
          ]
        }
      ],
      "source": [
        "import pandas as pd\n",
        "\n",
        "# Data menggunakan Pandas DataFrame\n",
        "data = pd.DataFrame({'Luas Tanah': [1000, 1500, 1200, 1800, 900],\n",
        "                     'Jumlah Kamar': [3, 4, 3, 4, 2],\n",
        "                     'Tahun Didirikan': [1990, 1980, 2005, 1995, 2010],\n",
        "                     'Harga Rumah': [500000, 700000, 600000, 800000, 450000]})\n",
        "\n",
        "print(\"Pandas data :\\n\", data, \"\\n\")\n",
        "# Mengonversi DataFrame ke array\n",
        "array_data = data.to_numpy()\n",
        "print(\"Array data :\\n\",array_data)\n"
      ]
    },
    {
      "cell_type": "markdown",
      "source": [
        "Contoh penggunaan data dalam bentuk tensor (menggunakan TensorFlow)"
      ],
      "metadata": {
        "id": "Xh4PjhEDy81o"
      }
    },
    {
      "cell_type": "code",
      "source": [
        "import tensorflow as tf\n",
        "\n",
        "# Data dalam bentuk tensor\n",
        "data = tf.constant([[1000, 3, 1990],\n",
        "                    [1500, 4, 1980],\n",
        "                    [1200, 3, 2005],\n",
        "                    [1800, 4, 1995],\n",
        "                    [900, 2, 2010]], dtype=tf.float32)\n",
        "\n",
        "print(data)\n"
      ],
      "metadata": {
        "colab": {
          "base_uri": "https://localhost:8080/"
        },
        "id": "3bZSM2OewKSQ",
        "outputId": "83ac8a6c-28fc-4155-8c65-8e8abf0ad416"
      },
      "execution_count": 7,
      "outputs": [
        {
          "output_type": "stream",
          "name": "stdout",
          "text": [
            "tf.Tensor(\n",
            "[[1.000e+03 3.000e+00 1.990e+03]\n",
            " [1.500e+03 4.000e+00 1.980e+03]\n",
            " [1.200e+03 3.000e+00 2.005e+03]\n",
            " [1.800e+03 4.000e+00 1.995e+03]\n",
            " [9.000e+02 2.000e+00 2.010e+03]], shape=(5, 3), dtype=float32)\n"
          ]
        }
      ]
    },
    {
      "cell_type": "markdown",
      "source": [
        "Dalam contoh pertama, data diwakili oleh objek Pandas DataFrame yang memiliki kolom-kolom yang berbeda sebagai fitur dan target. Data tersebut kemudian dikonversi menjadi array menggunakan metode to_numpy() untuk digunakan dalam model machine learning.\n",
        "\n",
        "Dalam contoh kedua, data direpresentasikan dalam bentuk tensor menggunakan TensorFlow. Tensor adalah struktur data yang digunakan di TensorFlow untuk menyimpan dan memanipulasi data dalam bentuk array multidimensi."
      ],
      "metadata": {
        "id": "pgrYhFVMzZvs"
      }
    },
    {
      "cell_type": "markdown",
      "source": [
        "**FYI**\n",
        "Pandas dan NumPy adalah dua library populer dalam bahasa pemrograman Python yang digunakan untuk analisis dan manipulasi data.\n",
        "\n",
        "Dalam ringkasan, Pandas digunakan untuk analisis data tabular dan manipulasi data terstruktur, sedangkan NumPy digunakan untuk komputasi numerik, pemrosesan data numerik, dan operasi matriks. Keduanya sangat berguna dalam pemodelan data dan analisis numerik dalam Python.\n",
        "\n",
        "\n"
      ],
      "metadata": {
        "id": "waxGsGO51N89"
      }
    },
    {
      "cell_type": "markdown",
      "source": [
        "Berikut ini adalah beberapa cara umum untuk membuat tensor data:\n",
        "\n",
        "Menggunakan TensorFlow:\n",
        "\n",
        "Menggunakan fungsi tf.constant() untuk membuat tensor konstan.\n",
        "Menggunakan fungsi tf.Variable() untuk membuat tensor variabel.\n",
        "Menggunakan operasi dan fungsi TensorFlow lainnya seperti tf.zeros(), tf.ones(), tf.random.normal(), atau tf.random.uniform()."
      ],
      "metadata": {
        "id": "IrdYvjmwC3Vf"
      }
    },
    {
      "cell_type": "markdown",
      "source": [
        "Menggunakan NumPy:\n",
        "\n",
        "Menggunakan fungsi np.array() untuk membuat tensor dari array NumPy.\n",
        "Menggunakan fungsi NumPy lainnya seperti np.zeros(), np.ones(), np.random.normal(), atau np.random.uniform() untuk membuat tensor dengan nilai nol, satu, atau acak."
      ],
      "metadata": {
        "id": "p_eOeSxnC_1m"
      }
    },
    {
      "cell_type": "code",
      "source": [
        "# Contoh penggunaan TensorFlow:\n",
        "\n",
        "import tensorflow as tf\n",
        "\n",
        "# Membuat tensor konstan\n",
        "tensor_const = tf.constant([1, 2, 3, 4, 5])\n",
        "\n",
        "# Membuat tensor variabel\n",
        "tensor_var = tf.Variable([6, 7, 8, 9, 10])\n",
        "\n",
        "# Membuat tensor dengan nilai nol\n",
        "tensor_zeros = tf.zeros(shape=(3, 3))\n",
        "\n",
        "# Membuat tensor dengan nilai acak\n",
        "tensor_random = tf.random.uniform(shape=(2, 2))\n",
        "\n",
        "# Menampilkan hasil\n",
        "print(\"Tensor Konstan:\")\n",
        "print(tensor_const)\n",
        "\n",
        "print(\"Tensor Variabel:\")\n",
        "print(tensor_var)\n",
        "\n",
        "print(\"Tensor dengan Nilai Nol:\")\n",
        "print(tensor_zeros)\n",
        "\n",
        "print(\"Tensor dengan Nilai Acak:\")\n",
        "print(tensor_random)\n"
      ],
      "metadata": {
        "colab": {
          "base_uri": "https://localhost:8080/"
        },
        "id": "setSbe0nDAVa",
        "outputId": "58bb5b3b-14e7-4401-d2e0-2f372b724e41"
      },
      "execution_count": 9,
      "outputs": [
        {
          "output_type": "stream",
          "name": "stdout",
          "text": [
            "Tensor Konstan:\n",
            "tf.Tensor([1 2 3 4 5], shape=(5,), dtype=int32)\n",
            "Tensor Variabel:\n",
            "<tf.Variable 'Variable:0' shape=(5,) dtype=int32, numpy=array([ 6,  7,  8,  9, 10], dtype=int32)>\n",
            "Tensor dengan Nilai Nol:\n",
            "tf.Tensor(\n",
            "[[0. 0. 0.]\n",
            " [0. 0. 0.]\n",
            " [0. 0. 0.]], shape=(3, 3), dtype=float32)\n",
            "Tensor dengan Nilai Acak:\n",
            "tf.Tensor(\n",
            "[[0.5351337  0.1273483 ]\n",
            " [0.4225917  0.14349282]], shape=(2, 2), dtype=float32)\n"
          ]
        }
      ]
    },
    {
      "cell_type": "code",
      "source": [
        "#Contoh penggunaan NumPy:\n",
        "import numpy as np\n",
        "\n",
        "# Membuat tensor dari array NumPy\n",
        "tensor_from_numpy = np.array([1, 2, 3, 4, 5])\n",
        "\n",
        "# Membuat tensor dengan nilai nol\n",
        "tensor_zeros = np.zeros((3, 3))\n",
        "\n",
        "# Membuat tensor dengan nilai acak\n",
        "tensor_random = np.random.uniform(size=(2, 2))\n",
        "\n",
        "# Menampilkan hasil\n",
        "print(\"Tensor dari Array NumPy:\")\n",
        "print(tensor_from_numpy)\n",
        "\n",
        "print(\"Tensor dengan Nilai Nol:\")\n",
        "print(tensor_zeros)\n",
        "\n",
        "print(\"Tensor dengan Nilai Acak:\")\n",
        "print(tensor_random)\n"
      ],
      "metadata": {
        "colab": {
          "base_uri": "https://localhost:8080/"
        },
        "id": "BWCXoChHDTMX",
        "outputId": "64d8733a-d788-4529-e931-75008e322490"
      },
      "execution_count": 10,
      "outputs": [
        {
          "output_type": "stream",
          "name": "stdout",
          "text": [
            "Tensor dari Array NumPy:\n",
            "[1 2 3 4 5]\n",
            "Tensor dengan Nilai Nol:\n",
            "[[0. 0. 0.]\n",
            " [0. 0. 0.]\n",
            " [0. 0. 0.]]\n",
            "Tensor dengan Nilai Acak:\n",
            "[[0.33962015 0.06785462]\n",
            " [0.52867527 0.13828098]]\n"
          ]
        }
      ]
    },
    {
      "cell_type": "code",
      "source": [],
      "metadata": {
        "id": "q6oZbZ4fDvQF"
      },
      "execution_count": null,
      "outputs": []
    }
  ]
}