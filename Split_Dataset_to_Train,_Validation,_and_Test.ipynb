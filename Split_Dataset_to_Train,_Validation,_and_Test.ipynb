{
  "nbformat": 4,
  "nbformat_minor": 0,
  "metadata": {
    "colab": {
      "provenance": [],
      "authorship_tag": "ABX9TyPl0rIcuqlfV5NmQ2xJ4nyf",
      "include_colab_link": true
    },
    "kernelspec": {
      "name": "python3",
      "display_name": "Python 3"
    },
    "language_info": {
      "name": "python"
    }
  },
  "cells": [
    {
      "cell_type": "markdown",
      "metadata": {
        "id": "view-in-github",
        "colab_type": "text"
      },
      "source": [
        "<a href=\"https://colab.research.google.com/github/IndraMadika/ML_Study/blob/main/Split_Dataset_to_Train%2C_Validation%2C_and_Test.ipynb\" target=\"_parent\"><img src=\"https://colab.research.google.com/assets/colab-badge.svg\" alt=\"Open In Colab\"/></a>"
      ]
    },
    {
      "cell_type": "markdown",
      "source": [
        "Metode 1: Manual menggunakan indeks acak"
      ],
      "metadata": {
        "id": "SQiHXBCFbaaq"
      }
    },
    {
      "cell_type": "code",
      "execution_count": 33,
      "metadata": {
        "colab": {
          "base_uri": "https://localhost:8080/"
        },
        "id": "87HLksaYbRNs",
        "outputId": "e7e4dd3d-2658-454c-d765-a127b5bb77ae"
      },
      "outputs": [
        {
          "output_type": "stream",
          "name": "stdout",
          "text": [
            "Jumlah data train: 7\n",
            "Jumlah data validation: 2\n",
            "Jumlah data test: 1\n",
            "Nilai train: [ 6  7 10  9  1  5  8]\n",
            "Nilai validation: [4 2]\n",
            "Nilai test: [3]\n"
          ]
        }
      ],
      "source": [
        "import numpy as np\n",
        "\n",
        "# Data dan label\n",
        "data = np.array([1, 2, 3, 4, 5, 6, 7, 8, 9, 10])\n",
        "labels = np.array([0, 1, 0, 1, 0, 1, 0, 1, 0, 1])\n",
        "\n",
        "# Mengacak indeks data\n",
        "random_indices = np.random.permutation(len(data))\n",
        "\n",
        "# Memisahkan data ke dalam subset train, validation, dan test\n",
        "train_data = data[random_indices[:7]]\n",
        "train_labels = labels[random_indices[:7]]\n",
        "\n",
        "validation_data = data[random_indices[7:9]]\n",
        "validation_labels = labels[random_indices[7:9]]\n",
        "\n",
        "test_data = data[random_indices[9:]]\n",
        "test_labels = labels[random_indices[9:]]\n",
        "\n",
        "# Menampilkan jumlah data dalam masing-masing subset\n",
        "print(\"Jumlah data train:\", len(train_data))\n",
        "print(\"Jumlah data validation:\", len(validation_data))\n",
        "print(\"Jumlah data test:\", len(test_data))\n",
        "\n",
        "print(\"Nilai train:\",train_data)\n",
        "print(\"Nilai validation:\",validation_data)\n",
        "print(\"Nilai test:\",test_data)\n"
      ]
    },
    {
      "cell_type": "markdown",
      "source": [
        "Metode 2: Menggunakan fungsi train_test_split()"
      ],
      "metadata": {
        "id": "NdTeuR3Kbhza"
      }
    },
    {
      "cell_type": "code",
      "source": [
        "from sklearn.model_selection import train_test_split\n",
        "\n",
        "# Data dan label\n",
        "data = np.array([1, 2, 3, 4, 5, 6, 7, 8, 9, 10])\n",
        "labels = np.array([0, 1, 0, 1, 0, 1, 0, 1, 0, 1])\n",
        "\n",
        "# Membagi data menjadi subset train, validation, dan test\n",
        "train_data, remaining_data, train_labels, remaining_labels = train_test_split(data, labels, test_size=0.4, random_state=42)\n",
        "validation_data, test_data, validation_labels, test_labels = train_test_split(remaining_data, remaining_labels, test_size=0.5, random_state=42)\n",
        "\n",
        "# Menampilkan jumlah data dalam masing-masing subset\n",
        "print(\"Jumlah data train:\", len(train_data))\n",
        "print(\"Jumlah data validation:\", len(validation_data))\n",
        "print(\"Jumlah data test:\", len(test_data))\n",
        "\n",
        "print(\"Nilai train:\",train_data)\n",
        "print(\"Nilai validation:\",validation_data)\n",
        "print(\"Nilai test:\",test_data)"
      ],
      "metadata": {
        "colab": {
          "base_uri": "https://localhost:8080/"
        },
        "id": "7LVCWHiGbbJI",
        "outputId": "9ca692ea-f14f-4f30-8e83-1b60dca06df6"
      },
      "execution_count": 34,
      "outputs": [
        {
          "output_type": "stream",
          "name": "stdout",
          "text": [
            "Jumlah data train: 6\n",
            "Jumlah data validation: 2\n",
            "Jumlah data test: 2\n",
            "Nilai train: [ 8  3 10  5  4  7]\n",
            "Nilai validation: [9 6]\n",
            "Nilai test: [2 1]\n"
          ]
        }
      ]
    },
    {
      "cell_type": "markdown",
      "source": [
        "Metode 3: Menggunakan indeks acak dengan Stratified Sampling"
      ],
      "metadata": {
        "id": "7Km-inKkbqci"
      }
    },
    {
      "cell_type": "code",
      "source": [
        "from sklearn.model_selection import train_test_split\n",
        "\n",
        "# Data dan label\n",
        "data = np.array([1, 2, 3, 4, 5, 6, 7, 8, 9, 10])\n",
        "labels = np.array([0, 1, 0, 1, 0, 1, 0, 1, 0, 1])\n",
        "\n",
        "# Membagi data menjadi subset train, validation, dan test dengan Stratified Sampling\n",
        "train_data, remaining_data, train_labels, remaining_labels = train_test_split(data, labels, test_size=0.4, random_state=42, stratify=labels)\n",
        "validation_data, test_data, validation_labels, test_labels = train_test_split(remaining_data, remaining_labels, test_size=0.5, random_state=42, stratify=remaining_labels)\n",
        "\n",
        "# Menampilkan jumlah data dalam masing-masing subset\n",
        "print(\"Jumlah data train:\", len(train_data))\n",
        "print(\"Jumlah data validation:\", len(validation_data))\n",
        "print(\"Jumlah data test:\", len(test_data))\n"
      ],
      "metadata": {
        "colab": {
          "base_uri": "https://localhost:8080/"
        },
        "id": "lbP8vFaHbl3u",
        "outputId": "f240dfb3-43ed-407f-b1f1-76f125a7d46a"
      },
      "execution_count": 35,
      "outputs": [
        {
          "output_type": "stream",
          "name": "stdout",
          "text": [
            "Jumlah data train: 6\n",
            "Jumlah data validation: 2\n",
            "Jumlah data test: 2\n"
          ]
        }
      ]
    },
    {
      "cell_type": "code",
      "source": [],
      "metadata": {
        "id": "77aMAgEEbu8F"
      },
      "execution_count": null,
      "outputs": []
    }
  ]
}