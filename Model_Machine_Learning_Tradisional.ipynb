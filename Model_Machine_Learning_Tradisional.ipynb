{
  "nbformat": 4,
  "nbformat_minor": 0,
  "metadata": {
    "colab": {
      "provenance": [],
      "authorship_tag": "ABX9TyOLV7sXWfTOfw5aPYryFdLG",
      "include_colab_link": true
    },
    "kernelspec": {
      "name": "python3",
      "display_name": "Python 3"
    },
    "language_info": {
      "name": "python"
    }
  },
  "cells": [
    {
      "cell_type": "markdown",
      "metadata": {
        "id": "view-in-github",
        "colab_type": "text"
      },
      "source": [
        "<a href=\"https://colab.research.google.com/github/IndraMadika/ML_Study/blob/main/Model_Machine_Learning_Tradisional.ipynb\" target=\"_parent\"><img src=\"https://colab.research.google.com/assets/colab-badge.svg\" alt=\"Open In Colab\"/></a>"
      ]
    },
    {
      "cell_type": "markdown",
      "source": [
        "Berikut adalah contoh kode untuk masing-masing model machine learning tradisional:"
      ],
      "metadata": {
        "id": "s6tz286z9bjm"
      }
    },
    {
      "cell_type": "markdown",
      "source": [
        "**1. Regresi Linier**\n",
        "\n"
      ],
      "metadata": {
        "id": "7e7Lt7Uv92gF"
      }
    },
    {
      "cell_type": "code",
      "execution_count": 1,
      "metadata": {
        "colab": {
          "base_uri": "https://localhost:8080/"
        },
        "id": "vjmQPIEV9ZLs",
        "outputId": "41366d33-badf-4c66-ff9d-30560c8c81ef"
      },
      "outputs": [
        {
          "output_type": "stream",
          "name": "stdout",
          "text": [
            "[12.]\n"
          ]
        }
      ],
      "source": [
        "import numpy as np\n",
        "from sklearn.linear_model import LinearRegression\n",
        "\n",
        "# Data training\n",
        "X_train = np.array([1, 2, 3, 4, 5]).reshape((-1, 1))\n",
        "y_train = np.array([2, 4, 6, 8, 10])\n",
        "\n",
        "# Inisialisasi model\n",
        "model = LinearRegression()\n",
        "\n",
        "# Training model\n",
        "model.fit(X_train, y_train)\n",
        "\n",
        "# Prediksi nilai dengan model yang sudah di-train\n",
        "X_new = np.array([6]).reshape((-1, 1))\n",
        "y_pred = model.predict(X_new)\n",
        "\n",
        "print(y_pred)"
      ]
    },
    {
      "cell_type": "code",
      "source": [],
      "metadata": {
        "id": "RILl-Y4Y9zU2"
      },
      "execution_count": null,
      "outputs": []
    },
    {
      "cell_type": "markdown",
      "source": [
        "**2. K-Nearest Neighbors**"
      ],
      "metadata": {
        "id": "6Pdfhblm-Abt"
      }
    },
    {
      "cell_type": "code",
      "source": [
        "import numpy as np\n",
        "from sklearn.neighbors import KNeighborsClassifier\n",
        "\n",
        "# Data training\n",
        "X_train = np.array([[1, 2], [3, 4], [5, 6], [7, 8]])\n",
        "y_train = np.array([0, 0, 1, 1])\n",
        "\n",
        "# Inisialisasi model\n",
        "model = KNeighborsClassifier(n_neighbors=3)\n",
        "\n",
        "# Training model\n",
        "model.fit(X_train, y_train)\n",
        "\n",
        "# Prediksi nilai dengan model yang sudah di-train\n",
        "X_new = np.array([[2, 3]])\n",
        "y_pred = model.predict(X_new)\n",
        "\n",
        "print(y_pred)"
      ],
      "metadata": {
        "colab": {
          "base_uri": "https://localhost:8080/"
        },
        "id": "TyOZ3r5w-EKq",
        "outputId": "90ab847b-d373-4c20-fbef-2728bac4d958"
      },
      "execution_count": 2,
      "outputs": [
        {
          "output_type": "stream",
          "name": "stdout",
          "text": [
            "[0]\n"
          ]
        }
      ]
    },
    {
      "cell_type": "code",
      "source": [
        "from sklearn.neighbors import KNeighborsClassifier\n",
        "from sklearn.datasets import load_iris\n",
        "from sklearn.model_selection import train_test_split\n",
        "\n",
        "# Load dataset iris\n",
        "iris = load_iris()\n",
        "X, y = iris.data, iris.target\n",
        "\n",
        "# Split data menjadi data training dan data testing\n",
        "X_train, X_test, y_train, y_test = train_test_split(X, y, test_size=0.2)\n",
        "\n",
        "# Inisialisasi model KNN dengan jumlah tetangga sebanyak 3\n",
        "model = KNeighborsClassifier(n_neighbors=3)\n",
        "\n",
        "# Training model dengan data training\n",
        "model.fit(X_train, y_train)\n",
        "\n",
        "# Prediksi nilai dengan model yang sudah di-train\n",
        "y_pred = model.predict(X_test)\n",
        "\n",
        "# Evaluasi performa model\n",
        "accuracy = model.score(X_test, y_test)\n",
        "print(f\"Akurasi: {accuracy}\")\n"
      ],
      "metadata": {
        "colab": {
          "base_uri": "https://localhost:8080/"
        },
        "id": "zlYrx5Xb-G51",
        "outputId": "cc1c76a9-5372-4d89-9cfe-9bb1eb186b45"
      },
      "execution_count": 10,
      "outputs": [
        {
          "output_type": "stream",
          "name": "stdout",
          "text": [
            "Akurasi: 1.0\n"
          ]
        }
      ]
    },
    {
      "cell_type": "markdown",
      "source": [
        "**3. Decision Tree**"
      ],
      "metadata": {
        "id": "CamXYNUS-XqV"
      }
    },
    {
      "cell_type": "code",
      "source": [
        "import numpy as np\n",
        "from sklearn.tree import DecisionTreeClassifier\n",
        "\n",
        "# Data training\n",
        "X_train = np.array([[1, 2], [3, 4], [5, 6], [7, 8]])\n",
        "y_train = np.array([0, 0, 1, 1])\n",
        "\n",
        "# Inisialisasi model\n",
        "model = DecisionTreeClassifier()\n",
        "\n",
        "# Training model\n",
        "model.fit(X_train, y_train)\n",
        "\n",
        "# Prediksi nilai dengan model yang sudah di-train\n",
        "X_new = np.array([[2, 3]])\n",
        "y_pred = model.predict(X_new)\n",
        "\n",
        "print(y_pred)\n"
      ],
      "metadata": {
        "colab": {
          "base_uri": "https://localhost:8080/"
        },
        "id": "wSRYsVZi-cL8",
        "outputId": "f3f0fa49-4980-4d70-c70c-ba3d53c2bffa"
      },
      "execution_count": 3,
      "outputs": [
        {
          "output_type": "stream",
          "name": "stdout",
          "text": [
            "[0]\n"
          ]
        }
      ]
    },
    {
      "cell_type": "code",
      "source": [
        "from sklearn.tree import DecisionTreeClassifier\n",
        "from sklearn.datasets import load_iris\n",
        "from sklearn.model_selection import train_test_split\n",
        "\n",
        "# load dataset\n",
        "iris = load_iris()\n",
        "X = iris.data\n",
        "y = iris.target\n",
        "\n",
        "# split data menjadi training dan testing set\n",
        "X_train, X_test, y_train, y_test = train_test_split(X, y, test_size=0.3, random_state=1)\n",
        "\n",
        "# inisialisasi model Decision Tree\n",
        "dt = DecisionTreeClassifier()\n",
        "\n",
        "# training model\n",
        "dt.fit(X_train, y_train)\n",
        "\n",
        "# prediksi label dari data testing\n",
        "y_pred = dt.predict(X_test)\n",
        "\n",
        "# evaluasi performa model\n",
        "accuracy = dt.score(X_test, y_test)\n",
        "print('Accuracy: %.2f' % accuracy)\n"
      ],
      "metadata": {
        "colab": {
          "base_uri": "https://localhost:8080/"
        },
        "id": "td2_dTM5BjsV",
        "outputId": "f812ae85-bca6-4bfe-f1af-ff7493ef1593"
      },
      "execution_count": 9,
      "outputs": [
        {
          "output_type": "stream",
          "name": "stdout",
          "text": [
            "Accuracy: 0.96\n"
          ]
        }
      ]
    },
    {
      "cell_type": "markdown",
      "source": [
        "**4. Naive Bayes**"
      ],
      "metadata": {
        "id": "mRSi7tuq-hlN"
      }
    },
    {
      "cell_type": "code",
      "source": [
        "import numpy as np\n",
        "from sklearn.naive_bayes import GaussianNB\n",
        "\n",
        "# Data training\n",
        "X_train = np.array([[1, 2], [3, 4], [5, 6], [7, 8]])\n",
        "y_train = np.array([0, 0, 1, 1])\n",
        "\n",
        "# Inisialisasi model\n",
        "model = GaussianNB()\n",
        "\n",
        "# Training model\n",
        "model.fit(X_train, y_train)\n",
        "\n",
        "# Prediksi nilai dengan model yang sudah di-train\n",
        "X_new = np.array([[2, 3]])\n",
        "y_pred = model.predict(X_new)\n",
        "\n",
        "print(y_pred)\n"
      ],
      "metadata": {
        "colab": {
          "base_uri": "https://localhost:8080/"
        },
        "id": "SyaWLRTK-eeU",
        "outputId": "994cc1be-fc9d-4e59-e02b-b6ebe179410b"
      },
      "execution_count": 4,
      "outputs": [
        {
          "output_type": "stream",
          "name": "stdout",
          "text": [
            "[0]\n"
          ]
        }
      ]
    },
    {
      "cell_type": "code",
      "source": [
        "from sklearn.datasets import load_iris\n",
        "from sklearn.naive_bayes import GaussianNB\n",
        "from sklearn.model_selection import train_test_split\n",
        "\n",
        "# Load dataset Iris\n",
        "iris = load_iris()\n",
        "\n",
        "# Pisahkan atribut dan target\n",
        "X = iris['data']\n",
        "y = iris['target']\n",
        "\n",
        "# Pisahkan data untuk training dan testing\n",
        "X_train, X_test, y_train, y_test = train_test_split(X, y, test_size=0.3)\n",
        "\n",
        "# Inisialisasi model Gaussian Naive Bayes\n",
        "model = GaussianNB()\n",
        "\n",
        "# Train model\n",
        "model.fit(X_train, y_train)\n",
        "\n",
        "# Prediksi nilai dengan model yang sudah di-train\n",
        "y_pred = model.predict(X_test)\n",
        "\n",
        "# Hitung akurasi\n",
        "accuracy = model.score(X_test, y_test)\n",
        "\n",
        "# Cetak hasil prediksi dan akurasi\n",
        "print(\"Hasil prediksi: \", y_pred)\n",
        "print(\"Akurasi: \", accuracy)\n"
      ],
      "metadata": {
        "colab": {
          "base_uri": "https://localhost:8080/"
        },
        "id": "qpyck295BLot",
        "outputId": "9b4cdf47-ef76-4029-fcf4-7d825b7caf63"
      },
      "execution_count": 8,
      "outputs": [
        {
          "output_type": "stream",
          "name": "stdout",
          "text": [
            "Hasil prediksi:  [1 2 2 1 1 0 0 1 2 0 0 1 1 1 1 0 0 0 1 2 2 1 0 2 2 2 1 1 1 1 0 0 0 0 1 1 0\n",
            " 1 0 2 2 1 0 2 1]\n",
            "Akurasi:  0.9555555555555556\n"
          ]
        }
      ]
    },
    {
      "cell_type": "markdown",
      "source": [
        "**5. Support Vector Machine**"
      ],
      "metadata": {
        "id": "wyVp0Zbn-z4e"
      }
    },
    {
      "cell_type": "code",
      "source": [
        "from sklearn import svm\n",
        "from sklearn.datasets import load_iris\n",
        "from sklearn.model_selection import train_test_split\n",
        "\n",
        "# Load iris dataset\n",
        "iris = load_iris()\n",
        "\n",
        "# Split the data into training and testing sets\n",
        "X_train, X_test, y_train, y_test = train_test_split(iris.data, iris.target, test_size=0.3, random_state=0)\n",
        "\n",
        "# Create a SVM model\n",
        "model = svm.SVC(kernel='linear')\n",
        "\n",
        "# Train the model using the training data\n",
        "model.fit(X_train, y_train)\n",
        "\n",
        "# Make predictions on the testing data\n",
        "y_pred = model.predict(X_test)\n",
        "\n",
        "# Print the accuracy score of the model\n",
        "accuracy = model.score(X_test, y_test)\n",
        "print('Accuracy:', accuracy)\n",
        "\n"
      ],
      "metadata": {
        "colab": {
          "base_uri": "https://localhost:8080/"
        },
        "id": "bbPUvRGA-pTU",
        "outputId": "337edd3f-2e41-4ed5-f8af-326c4d5625c0"
      },
      "execution_count": 7,
      "outputs": [
        {
          "output_type": "stream",
          "name": "stdout",
          "text": [
            "Accuracy: 0.9777777777777777\n"
          ]
        }
      ]
    },
    {
      "cell_type": "markdown",
      "source": [
        "**6. Random Forest**"
      ],
      "metadata": {
        "id": "N0QQcz_B_mju"
      }
    },
    {
      "cell_type": "code",
      "source": [
        "# Import library yang dibutuhkan\n",
        "from sklearn.ensemble import RandomForestClassifier\n",
        "from sklearn.datasets import load_iris\n",
        "from sklearn.model_selection import train_test_split\n",
        "\n",
        "# Load dataset Iris\n",
        "iris = load_iris()\n",
        "X = iris.data\n",
        "y = iris.target\n",
        "\n",
        "# Bagi dataset menjadi train dan test set\n",
        "X_train, X_test, y_train, y_test = train_test_split(X, y, test_size=0.3, random_state=42)\n",
        "\n",
        "# Inisialisasi model Random Forest\n",
        "rf = RandomForestClassifier(n_estimators=100, random_state=42)\n",
        "\n",
        "# Fit model pada data training\n",
        "rf.fit(X_train, y_train)\n",
        "\n",
        "# Prediksi pada data testing\n",
        "y_pred = rf.predict(X_test)\n",
        "\n",
        "# Evaluasi performa model\n",
        "from sklearn.metrics import accuracy_score\n",
        "print(\"Akurasi: \", accuracy_score(y_test, y_pred))\n"
      ],
      "metadata": {
        "colab": {
          "base_uri": "https://localhost:8080/"
        },
        "id": "AewMlL2__c29",
        "outputId": "64a41220-7053-4619-8c7f-97e8d6054160"
      },
      "execution_count": 6,
      "outputs": [
        {
          "output_type": "stream",
          "name": "stdout",
          "text": [
            "Akurasi:  1.0\n"
          ]
        }
      ]
    },
    {
      "cell_type": "code",
      "source": [],
      "metadata": {
        "id": "CjDkAL9U_-D9"
      },
      "execution_count": null,
      "outputs": []
    }
  ]
}